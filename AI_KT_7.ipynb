{
  "cells": [
    {
      "cell_type": "markdown",
      "metadata": {
        "id": "eUgesoeiz5P8"
      },
      "source": [
        "# Tehisintellekti 7. kodutöö - linnuliigi ennustamine heliklipi alusel\n",
        "## Baseerub Kaggle'i võistlusel BirdCLEF 2024\n",
        "### Autorid: Charleen Konsa, Timo Kaasik ja Edvard Notberg\n",
        "\n",
        "Seitsmenda kodutöö raames lahendasime Kaggle'i võistluse BirdCLEF 2024 lihtsustatud versiooni. Võistluse info asub lingil https://www.kaggle.com/competitions/birdclef-2024. Kõik kasutatud andmed on võetud võistluse lehelt. Kuna võistluse koguandmestik oli väga mahukas (182 linnuliiki ja heliklippe 7+ GB mahus), siis on kasutatud ainult osa kõigist andmetest. Meie kasutatud andmed on üles laetud GitHubi repositooriumisse (link - https://github.com/Ckonsa/AI_KT_7), et oleks ühtselt mõistetav, mis andmeid ja mis mahus on töös kasutatud.\n",
        "\n",
        "Töö eesmärk on kasutada masinõpet, et tuvastada heliklipi abil India linnuliike. Etteantud klipi puhul klassifitseeritakse, millisele linnuliigile klipis kõlav heli kuulub."
      ]
    },
    {
      "cell_type": "markdown",
      "source": [
        "### Vajalikud installeerimised ja impordid"
      ],
      "metadata": {
        "id": "ubrsQxrMdurI"
      }
    },
    {
      "cell_type": "code",
      "source": [
        "# Vajalikud installimised\n",
        "!pip install tensorflow-io\n",
        "!pip install tensorflow --upgrade"
      ],
      "metadata": {
        "colab": {
          "base_uri": "https://localhost:8080/"
        },
        "id": "1h3a_Y5ndjQ7",
        "outputId": "eb4aedb1-5d2c-4f09-cf69-8b610acfc9dd"
      },
      "execution_count": 1,
      "outputs": [
        {
          "output_type": "stream",
          "name": "stdout",
          "text": [
            "Requirement already satisfied: tensorflow-io in /usr/local/lib/python3.10/dist-packages (0.37.0)\n",
            "Requirement already satisfied: tensorflow-io-gcs-filesystem==0.37.0 in /usr/local/lib/python3.10/dist-packages (from tensorflow-io) (0.37.0)\n",
            "Requirement already satisfied: tensorflow in /usr/local/lib/python3.10/dist-packages (2.16.1)\n",
            "Requirement already satisfied: absl-py>=1.0.0 in /usr/local/lib/python3.10/dist-packages (from tensorflow) (1.4.0)\n",
            "Requirement already satisfied: astunparse>=1.6.0 in /usr/local/lib/python3.10/dist-packages (from tensorflow) (1.6.3)\n",
            "Requirement already satisfied: flatbuffers>=23.5.26 in /usr/local/lib/python3.10/dist-packages (from tensorflow) (24.3.25)\n",
            "Requirement already satisfied: gast!=0.5.0,!=0.5.1,!=0.5.2,>=0.2.1 in /usr/local/lib/python3.10/dist-packages (from tensorflow) (0.5.4)\n",
            "Requirement already satisfied: google-pasta>=0.1.1 in /usr/local/lib/python3.10/dist-packages (from tensorflow) (0.2.0)\n",
            "Requirement already satisfied: h5py>=3.10.0 in /usr/local/lib/python3.10/dist-packages (from tensorflow) (3.11.0)\n",
            "Requirement already satisfied: libclang>=13.0.0 in /usr/local/lib/python3.10/dist-packages (from tensorflow) (18.1.1)\n",
            "Requirement already satisfied: ml-dtypes~=0.3.1 in /usr/local/lib/python3.10/dist-packages (from tensorflow) (0.3.2)\n",
            "Requirement already satisfied: opt-einsum>=2.3.2 in /usr/local/lib/python3.10/dist-packages (from tensorflow) (3.3.0)\n",
            "Requirement already satisfied: packaging in /usr/local/lib/python3.10/dist-packages (from tensorflow) (24.0)\n",
            "Requirement already satisfied: protobuf!=4.21.0,!=4.21.1,!=4.21.2,!=4.21.3,!=4.21.4,!=4.21.5,<5.0.0dev,>=3.20.3 in /usr/local/lib/python3.10/dist-packages (from tensorflow) (3.20.3)\n",
            "Requirement already satisfied: requests<3,>=2.21.0 in /usr/local/lib/python3.10/dist-packages (from tensorflow) (2.31.0)\n",
            "Requirement already satisfied: setuptools in /usr/local/lib/python3.10/dist-packages (from tensorflow) (67.7.2)\n",
            "Requirement already satisfied: six>=1.12.0 in /usr/local/lib/python3.10/dist-packages (from tensorflow) (1.16.0)\n",
            "Requirement already satisfied: termcolor>=1.1.0 in /usr/local/lib/python3.10/dist-packages (from tensorflow) (2.4.0)\n",
            "Requirement already satisfied: typing-extensions>=3.6.6 in /usr/local/lib/python3.10/dist-packages (from tensorflow) (4.11.0)\n",
            "Requirement already satisfied: wrapt>=1.11.0 in /usr/local/lib/python3.10/dist-packages (from tensorflow) (1.14.1)\n",
            "Requirement already satisfied: grpcio<2.0,>=1.24.3 in /usr/local/lib/python3.10/dist-packages (from tensorflow) (1.64.0)\n",
            "Requirement already satisfied: tensorboard<2.17,>=2.16 in /usr/local/lib/python3.10/dist-packages (from tensorflow) (2.16.2)\n",
            "Requirement already satisfied: keras>=3.0.0 in /usr/local/lib/python3.10/dist-packages (from tensorflow) (3.3.3)\n",
            "Requirement already satisfied: tensorflow-io-gcs-filesystem>=0.23.1 in /usr/local/lib/python3.10/dist-packages (from tensorflow) (0.37.0)\n",
            "Requirement already satisfied: numpy<2.0.0,>=1.23.5 in /usr/local/lib/python3.10/dist-packages (from tensorflow) (1.25.2)\n",
            "Requirement already satisfied: wheel<1.0,>=0.23.0 in /usr/local/lib/python3.10/dist-packages (from astunparse>=1.6.0->tensorflow) (0.43.0)\n",
            "Requirement already satisfied: rich in /usr/local/lib/python3.10/dist-packages (from keras>=3.0.0->tensorflow) (13.7.1)\n",
            "Requirement already satisfied: namex in /usr/local/lib/python3.10/dist-packages (from keras>=3.0.0->tensorflow) (0.0.8)\n",
            "Requirement already satisfied: optree in /usr/local/lib/python3.10/dist-packages (from keras>=3.0.0->tensorflow) (0.11.0)\n",
            "Requirement already satisfied: charset-normalizer<4,>=2 in /usr/local/lib/python3.10/dist-packages (from requests<3,>=2.21.0->tensorflow) (3.3.2)\n",
            "Requirement already satisfied: idna<4,>=2.5 in /usr/local/lib/python3.10/dist-packages (from requests<3,>=2.21.0->tensorflow) (3.7)\n",
            "Requirement already satisfied: urllib3<3,>=1.21.1 in /usr/local/lib/python3.10/dist-packages (from requests<3,>=2.21.0->tensorflow) (2.0.7)\n",
            "Requirement already satisfied: certifi>=2017.4.17 in /usr/local/lib/python3.10/dist-packages (from requests<3,>=2.21.0->tensorflow) (2024.2.2)\n",
            "Requirement already satisfied: markdown>=2.6.8 in /usr/local/lib/python3.10/dist-packages (from tensorboard<2.17,>=2.16->tensorflow) (3.6)\n",
            "Requirement already satisfied: tensorboard-data-server<0.8.0,>=0.7.0 in /usr/local/lib/python3.10/dist-packages (from tensorboard<2.17,>=2.16->tensorflow) (0.7.2)\n",
            "Requirement already satisfied: werkzeug>=1.0.1 in /usr/local/lib/python3.10/dist-packages (from tensorboard<2.17,>=2.16->tensorflow) (3.0.3)\n",
            "Requirement already satisfied: MarkupSafe>=2.1.1 in /usr/local/lib/python3.10/dist-packages (from werkzeug>=1.0.1->tensorboard<2.17,>=2.16->tensorflow) (2.1.5)\n",
            "Requirement already satisfied: markdown-it-py>=2.2.0 in /usr/local/lib/python3.10/dist-packages (from rich->keras>=3.0.0->tensorflow) (3.0.0)\n",
            "Requirement already satisfied: pygments<3.0.0,>=2.13.0 in /usr/local/lib/python3.10/dist-packages (from rich->keras>=3.0.0->tensorflow) (2.16.1)\n",
            "Requirement already satisfied: mdurl~=0.1 in /usr/local/lib/python3.10/dist-packages (from markdown-it-py>=2.2.0->rich->keras>=3.0.0->tensorflow) (0.1.2)\n"
          ]
        }
      ]
    },
    {
      "cell_type": "code",
      "execution_count": 2,
      "metadata": {
        "id": "DH_05zuO48BV"
      },
      "outputs": [],
      "source": [
        "# Impordid\n",
        "import pandas as pd\n",
        "import ast\n",
        "import seaborn as sns\n",
        "from collections import Counter\n",
        "import matplotlib.pyplot as plt\n",
        "import librosa\n",
        "import librosa.display\n",
        "from sklearn.metrics import accuracy_score\n",
        "from sklearn.model_selection import train_test_split\n",
        "from sklearn.preprocessing import StandardScaler\n",
        "from IPython.display import Audio\n",
        "import random\n",
        "import numpy as np\n",
        "import glob\n",
        "# Colabi jaoks\n",
        "import os\n",
        "from google.colab import drive\n",
        "# Tensorflow\n",
        "import tensorflow as tf\n",
        "import tensorflow_io as tfio\n",
        "from tensorflow.keras.models import Sequential\n",
        "from tensorflow.keras.layers import Conv2D, MaxPooling2D, Flatten, Dense, Dropout, Input\n",
        "from tensorflow.keras.utils import to_categorical"
      ]
    },
    {
      "cell_type": "code",
      "execution_count": 3,
      "metadata": {
        "colab": {
          "base_uri": "https://localhost:8080/"
        },
        "id": "I20JJC58gsyt",
        "outputId": "44ed09c8-6657-4053-b494-54560f533c8a"
      },
      "outputs": [
        {
          "output_type": "stream",
          "name": "stdout",
          "text": [
            "Mounted at /content/drive\n"
          ]
        }
      ],
      "source": [
        "# Colabi mount\n",
        "drive.mount('/content/drive')\n",
        "os.chdir(\"/content/drive/My Drive/Colab Notebooks/\")"
      ]
    },
    {
      "cell_type": "markdown",
      "metadata": {
        "id": "NTZgtTzZ4H32"
      },
      "source": [
        "### Andmete analüüs\n",
        "Esmalt laeme alla informatisooni failist train_metadata.csv. Selles hoiustatakse informatsiooni kõigi treeninghelikilppide kohta. Uurime ja analüüsime täpsemalt etteantud klippide informatsiooni, et paremini mõista, milliste andmetega tegutseme.\n",
        "\n",
        "NB! Analüüsis on kaasatud kõigi treeningandmete metaandmed. Mudelite juures on kasutatud ainult väikest osa kõigist andmetest. Seega kõigi andmete pealt tehtud järeldused ei kandu üle tegelikult kasutatud andmetele."
      ]
    },
    {
      "cell_type": "code",
      "execution_count": 4,
      "metadata": {
        "colab": {
          "base_uri": "https://localhost:8080/"
        },
        "id": "HumKu7-GzxRY",
        "outputId": "a2604f1f-fd85-4b63-f232-f2117862e7c9"
      },
      "outputs": [
        {
          "output_type": "stream",
          "name": "stdout",
          "text": [
            "Informatsiooni andmestiku suurus on (24459, 12). Seega on meil esialgu 24459 heliklippi.\n",
            "Andmestikus on olemas veerud ['primary_label', 'secondary_labels', 'type', 'latitude', 'longitude', 'scientific_name', 'common_name', 'author', 'license', 'rating', 'url', 'filename'].\n",
            "<class 'pandas.core.frame.DataFrame'>\n",
            "RangeIndex: 24459 entries, 0 to 24458\n",
            "Data columns (total 12 columns):\n",
            " #   Column            Non-Null Count  Dtype  \n",
            "---  ------            --------------  -----  \n",
            " 0   primary_label     24459 non-null  object \n",
            " 1   secondary_labels  24459 non-null  object \n",
            " 2   type              24459 non-null  object \n",
            " 3   latitude          24081 non-null  float64\n",
            " 4   longitude         24081 non-null  float64\n",
            " 5   scientific_name   24459 non-null  object \n",
            " 6   common_name       24459 non-null  object \n",
            " 7   author            24459 non-null  object \n",
            " 8   license           24459 non-null  object \n",
            " 9   rating            24459 non-null  float64\n",
            " 10  url               24459 non-null  object \n",
            " 11  filename          24459 non-null  object \n",
            "dtypes: float64(3), object(9)\n",
            "memory usage: 2.2+ MB\n"
          ]
        }
      ],
      "source": [
        "metadata = pd.read_csv(\"train_metadata.csv\")\n",
        "print(f\"Informatsiooni andmestiku suurus on {metadata.shape}. Seega on meil esialgu {metadata.shape[0]} heliklippi.\")\n",
        "print(f\"Andmestikus on olemas veerud {list(metadata.columns)}.\")\n",
        "metadata.info()"
      ]
    },
    {
      "cell_type": "markdown",
      "metadata": {
        "id": "TV3H7vqK6zan"
      },
      "source": [
        "Heliklippide informatsioon on jaotatud 12-sse tulpa. Kõigi tulpade informatsiooni pole aga tarvis seega on mõislik andmestikku eelnevalt korrastada. Lisaks on mõnes tulbas (latitude ja longitude) osa informatsioonist puudu, mis tuleb enne sobival viisil täita.\n",
        "\n",
        "Eemaldatavate tulpade hulgas on järgnevad:\n",
        "\n",
        "\n",
        "*   secondary_label\n",
        "*   scientific_name\n",
        "*   common_name\n",
        "*   author\n",
        "*   license\n",
        "*   url\n",
        "\n",
        "Treenimisel hakatakse ennustama tulpa primary_label, kus on linnu kohta käiv märgend. Kuna linnu märgend on olemas, siis pole masinõppe jaoks tarvis teada linnu teaduslikku ega inimkeelset nime. Samuti on muu informatsioon autori, litsentsi kui ka heliklipi URLi kohta ebavajalik, sest neid ei saa treenimisel kasutada.\n",
        "\n",
        "Reitingut on võimalik kasutada, et kaasata treenimisele ainult heliklippe, mille kvaliteet on parem. Sel juhul antakse mudelile selgema linnulauluga klipid ja selle alusel on mudelil lihtsam õppida lindude hääli."
      ]
    },
    {
      "cell_type": "code",
      "execution_count": 5,
      "metadata": {
        "colab": {
          "base_uri": "https://localhost:8080/"
        },
        "id": "ajsSjCovz41m",
        "outputId": "ab6ee3a7-c23d-4798-cda5-298ee5c02280"
      },
      "outputs": [
        {
          "output_type": "stream",
          "name": "stdout",
          "text": [
            "Informatsiooni andmestiku suurus on nüüd (21506, 6).\n"
          ]
        }
      ],
      "source": [
        "# Ebavajalike veergude eemldamine\n",
        "metadata = metadata.drop([\"secondary_labels\", \"scientific_name\", \"common_name\", \"author\", \"license\", \"url\"], axis = 1)\n",
        "# Parema reitinguga heliklippide valimine\n",
        "threshold = 3.0\n",
        "metadata = metadata[metadata[\"rating\"] >= threshold]\n",
        "print(f\"Informatsiooni andmestiku suurus on nüüd {metadata.shape}.\")\n",
        "# Enam pole rating veeru vaja ehk eemaldame ka selle\n",
        "metadata = metadata.drop([\"rating\"], axis = 1)"
      ]
    },
    {
      "cell_type": "code",
      "execution_count": 6,
      "metadata": {
        "colab": {
          "base_uri": "https://localhost:8080/"
        },
        "id": "jNN1b36I_NwT",
        "outputId": "06033977-1b0f-42ab-b7e3-ee6f3e7c7382"
      },
      "outputs": [
        {
          "output_type": "stream",
          "name": "stdout",
          "text": [
            "<class 'pandas.core.frame.DataFrame'>\n",
            "Index: 21506 entries, 0 to 24458\n",
            "Data columns (total 5 columns):\n",
            " #   Column         Non-Null Count  Dtype  \n",
            "---  ------         --------------  -----  \n",
            " 0   primary_label  21506 non-null  object \n",
            " 1   type           21506 non-null  object \n",
            " 2   latitude       21506 non-null  float64\n",
            " 3   longitude      21506 non-null  float64\n",
            " 4   filename       21506 non-null  object \n",
            "dtypes: float64(2), object(3)\n",
            "memory usage: 1008.1+ KB\n"
          ]
        }
      ],
      "source": [
        "# Latitude ja longitude Nan väärtuste väärtustamine\n",
        "# Asendusväärtusteks võetakse keskmised väärtused\n",
        "metadata[\"latitude\"].fillna(metadata[\"latitude\"].mean(), inplace=True)\n",
        "metadata[\"longitude\"].fillna(metadata[\"longitude\"].mean(), inplace=True)\n",
        "metadata.info()"
      ]
    },
    {
      "cell_type": "code",
      "execution_count": 7,
      "metadata": {
        "id": "hWZnmXPVEe6e"
      },
      "outputs": [],
      "source": [
        "# Veeru type listiks muutmine\n",
        "metadata[\"type\"] = metadata[\"type\"].apply(ast.literal_eval)\n",
        "# Leiame, mis on 10 enimlevinud type väärtused ja viima iga väärtuse veeru kujule\n",
        "type_count = Counter([item.lower() for sublist in metadata[\"type\"] for item in sublist])\n",
        "types = list(dict(sorted(type_count.items(), key=lambda item: item[1], reverse=True)).keys())\n",
        "# Eemaldame tühja tüübi ja valime 10 kõige sagedasemat tüüpi\n",
        "types.remove(\"\")\n",
        "frequent_types = types[:10]\n",
        "# Iga tüübi jaoks luuakse veerg. Veerus on 1 kui see tüüp oli esialgses listis, muul juhul on 0\n",
        "for frequent_type in frequent_types:\n",
        "    metadata[frequent_type] = metadata[\"type\"].apply(lambda x: 1 if frequent_type in [item.lower() for item in x] else 0)\n",
        "# Eemaldame esialge type veeru\n",
        "metadata = metadata.drop([\"type\"], axis = 1)"
      ]
    },
    {
      "cell_type": "markdown",
      "metadata": {
        "id": "Hw_sewJrBb0u"
      },
      "source": [
        "Edasi analüüsin alles jäänud heliklippide informatsiooni, et näha kas andmed on tasakaalus ja millised andmetega on täpselt tegu. Kuna allesjäänud veerge on vähe, siis pole keeruline neisse süüvida."
      ]
    },
    {
      "cell_type": "code",
      "execution_count": 8,
      "metadata": {
        "colab": {
          "base_uri": "https://localhost:8080/",
          "height": 465
        },
        "id": "ke-1mWhaLIsf",
        "outputId": "e08977a0-2259-4012-d038-6cb9d7dcf9ee"
      },
      "outputs": [
        {
          "output_type": "stream",
          "name": "stdout",
          "text": [
            "Erinevaid linnuliike on kokku 182.\n"
          ]
        },
        {
          "output_type": "display_data",
          "data": {
            "text/plain": [
              "<Figure size 640x480 with 1 Axes>"
            ],
            "image/png": "[encoded data removed]"
          },
          "metadata": {}
        }
      ],
      "source": [
        "# Treeningandmete tasakaalukus linnuliikide alusel\n",
        "bird_types = metadata[\"primary_label\"].value_counts()\n",
        "print(f\"Erinevaid linnuliike on kokku {len(bird_types)}.\")\n",
        "\n",
        "bird_types.plot(kind=\"bar\")\n",
        "plt.title(\"Heliklippide arv iga linnuliigi kohta\")\n",
        "plt.xlabel(\"Linnuliigid\")\n",
        "plt.ylabel(\"Heliklippide arv\")\n",
        "plt.xticks([]) # Muidu proovitakse kõigi linnuliikide märgendeid kuvada\n",
        "plt.show()"
      ]
    },
    {
      "cell_type": "code",
      "execution_count": 9,
      "metadata": {
        "colab": {
          "base_uri": "https://localhost:8080/",
          "height": 472
        },
        "id": "wzgCSLmBNGZM",
        "outputId": "b7effe0f-2fd8-46f5-86a0-3d67062956a1"
      },
      "outputs": [
        {
          "output_type": "display_data",
          "data": {
            "text/plain": [
              "<Figure size 640x480 with 1 Axes>"
            ],
            "image/png": "[encoded data removed]"
          },
          "metadata": {}
        }
      ],
      "source": [
        "# Andmestikus olevad pikkus- ja laiuskraadi ning linnuliigi sõltuvus neist\n",
        "sns.scatterplot(data=metadata, x=\"latitude\", y=\"longitude\", hue=\"primary_label\", legend=False)\n",
        "plt.title(\"Lindude heliklippide laius- ja pikkuskraadid\")\n",
        "plt.xlabel(\"Laiuskraad\")\n",
        "plt.ylabel(\"Pikkuskraad\")\n",
        "plt.show()"
      ]
    },
    {
      "cell_type": "code",
      "execution_count": 10,
      "metadata": {
        "colab": {
          "base_uri": "https://localhost:8080/",
          "height": 592
        },
        "id": "Xxb1R7vdRac8",
        "outputId": "5932afe5-83ff-4e67-c5d5-db94e6b0afdd"
      },
      "outputs": [
        {
          "output_type": "display_data",
          "data": {
            "text/plain": [
              "<Figure size 640x480 with 1 Axes>"
            ],
            "image/png": "[encoded data removed]"
          },
          "metadata": {}
        }
      ],
      "source": [
        "# Erinevate linnuhäälte tüüpide kogus andmestikus\n",
        "types_value_counts = []\n",
        "for frequent_type in frequent_types:\n",
        "  types_value_counts.append(metadata[frequent_type].value_counts()[1])\n",
        "empty_types = (metadata[frequent_types] == 0).all(axis=1).sum()\n",
        "frequent_types.append(\"NO TYPE\")\n",
        "types_value_counts.append(empty_types)\n",
        "plt.bar(frequent_types, types_value_counts)\n",
        "plt.title(\"Linnuhäälte tüübid\")\n",
        "plt.xlabel(\"Tüüp\")\n",
        "plt.ylabel(\"Kogus\")\n",
        "plt.xticks(rotation=90)\n",
        "plt.show()"
      ]
    },
    {
      "cell_type": "markdown",
      "metadata": {
        "id": "-LV_0kP_Z0s0"
      },
      "source": [
        "Esimesel graafikul uuritakse heliklippide kogust ennustatavate liikide kohta. Sellelt on näha, et liigid, mida soovitakse ennustada pole eriti tasakaalus. On liike, millel on heliklippe üle 400, kuid samal ajal on osaldel liikidel kõigest 5 klippi. See võib põhjustada edaspidi probleeme, sest mudel ei pruugi olla võimeline liike ainult viie klipi pealt ennustama. Seetõttu on võib-olla mõeldav osade liikide mudelist välja jätmine ja ainult nende linnuliikide ennustamine, millel on klippe rohkem.\n",
        "\n",
        "Teisest graafikust tulevad välja seosed liikide ja pikkus- ning laiuskraadide vahel. On näha, kuidas heliklippide salvestuskohad on klastrites, mis tähistavad erinevaid piirkondi, kust tulevad välja ka peamised seal pesitsevad linnuliigid. Osa linnuliike leidub mitmes eri paigas. See võib mõjutada nende lindude häält, sest nagu inimestel on ka osadel linnuliikidel dialektid.\n",
        "\n",
        "Kolmandast graafikust on näha, millised on peamised linnuheli tüübid. Tüüpidest on alles jäetud ainult 10 kõige sagedasemat. Kõige sagedasemad on tüübid \"call\" ja \"snog\". Samas on siiski ka päris palju heliklippe, millel ei olnud üldse tüüpi või mille tüüp ei kuulu 10 sagedaseima hulka. Seega oleks seda atribuuti väga keeruline edaspidi kaasata, sest enamikel juhtudel see informatsioon on puudu."
      ]
    },
    {
      "cell_type": "markdown",
      "metadata": {
        "id": "SfMCkqg1g_83"
      },
      "source": [
        "### Mudel 1 - spektogrammid\n",
        "\n",
        "Esimene mudel kasutab linnuliigi ennustamisel heliklippide spektogramme.\n",
        "\n",
        "Mudel baseerub Tensorflow õpetusel nimega “Audio Data Preparation and Augmentation” (link õpetusele - https://www.tensorflow.org/io/tutorials/audio)."
      ]
    },
    {
      "cell_type": "markdown",
      "source": [
        "#### Andmete eeltöötlus"
      ],
      "metadata": {
        "id": "t4M_9dpkjBau"
      }
    },
    {
      "cell_type": "code",
      "execution_count": 11,
      "metadata": {
        "id": "YgH4ayDR7rYn"
      },
      "outputs": [],
      "source": [
        "# Esimese mudeli jaoks vajalik eeltöötlus.\n",
        "# Võtab argumentideks tee helifailini ja helifaili labeli\n",
        "# Tagastab heliklipist tehtud spektogrammi ja labeli\n",
        "def preprocess(file_path, label):\n",
        "    audio = tfio.audio.AudioIOTensor(file_path, dtype=tf.int16)\n",
        "    # audio_slice on praegu jäetud TF dokumentatsiooni näitest\n",
        "    audio_slice = audio[100:]\n",
        "    # Teeb 1-D tensoriks\n",
        "    audio_tensor = tf.squeeze(audio_slice, axis=[-1])\n",
        "    # Normaliseerib\n",
        "    tensor = tf.cast(audio_tensor, tf.float32) / 32768.0\n",
        "    # Võtab kindla pikkusega osa, et iga klipp oleks sama pikkusega\n",
        "    tensor = tensor[:150000]\n",
        "    zero_padding = tf.zeros([150000] - tf.shape(tensor), dtype=tf.float32)\n",
        "    wav = tf.concat([zero_padding, tensor],0)\n",
        "    # Loob spektogrammi\n",
        "    spectrogram = tf.signal.stft(wav, frame_length=320, frame_step=32)\n",
        "    spectrogram = tf.abs(spectrogram)\n",
        "    spectrogram = tf.expand_dims(spectrogram, axis=2)\n",
        "    return spectrogram, label"
      ]
    },
    {
      "cell_type": "code",
      "source": [
        "# Kõigi failide sisse lugemine ja labeli numbri lisamine\n",
        "# Oleme kasutanud 10 linnuliiki\n",
        "liigid = [\"commoo3\", \"gargan\", \"kenplo1\", \"nutman\", \"pursun4\", \"zitcis\", \"wemhar1\", \"woosan\", \"asbfly\", \"ashdro1\"]\n",
        "files = []\n",
        "# Eeldatakse, et heliklipid asuvad liiginimelises kaustas\n",
        "for i in range(len(liigid)):\n",
        "  liik = liigid[i]\n",
        "  # Leitakse kõigi heliklippide pathid\n",
        "  liigi_failid = glob.glob(liik+\"/*.ogg\")\n",
        "  for f in liigi_failid:\n",
        "    files.append((f, i))"
      ],
      "metadata": {
        "id": "YdGzPerNeFAb"
      },
      "execution_count": 12,
      "outputs": []
    },
    {
      "cell_type": "code",
      "source": [
        "# Proovime eeltöötluse läbi ühe heliklipiga\n",
        "s, l = preprocess(files[1][0], files[1][1])\n",
        "plt.figure(figsize=(30,20))\n",
        "plt.imshow(tf.transpose(s)[0])\n",
        "plt.show()"
      ],
      "metadata": {
        "id": "SHOf5O5DeSKq",
        "colab": {
          "base_uri": "https://localhost:8080/",
          "height": 121
        },
        "outputId": "2b64ae6a-e0e8-4322-e205-a67b3c8b699d"
      },
      "execution_count": 13,
      "outputs": [
        {
          "output_type": "display_data",
          "data": {
            "text/plain": [
              "<Figure size 3000x2000 with 1 Axes>"
            ],
            "image/png": "[encoded data removed]"
          },
          "metadata": {}
        }
      ]
    },
    {
      "cell_type": "code",
      "source": [
        "# Teeme eeltöötluse kõigile olemasolevatele andmetele\n",
        "X = []\n",
        "y = []\n",
        "for file_path, label in files:\n",
        "  s, l = preprocess(file_path, label)\n",
        "  X.append(s)\n",
        "  y.append(l)\n",
        "\n",
        "# Ennustatav atribuut ehk linnuliigid one-hot encodeitakse, et seda saaks mudelile ette anda\n",
        "y = to_categorical(y, num_classes=10)\n",
        "# Normaliseerimine ja reshapeime andmed\n",
        "X = X / np.max(np.abs(X))\n",
        "X = X[..., np.newaxis]\n",
        "# Jagame andmed treening- ja testandmeteks 80/20\n",
        "X_train, X_test, y_train, y_test = train_test_split(X, y, test_size=0.2, random_state=42)\n",
        "print(f\"Treeningandmed on mõõtmetega {X_train[0].shape}\")"
      ],
      "metadata": {
        "id": "enQ6ocJLexwR",
        "colab": {
          "base_uri": "https://localhost:8080/"
        },
        "outputId": "f40d8d5f-13d0-40c6-cc13-2b43f1f1c108"
      },
      "execution_count": 14,
      "outputs": [
        {
          "output_type": "stream",
          "name": "stdout",
          "text": [
            "Treeningandmed on mõõtmetega (4678, 257, 1, 1)\n"
          ]
        }
      ]
    },
    {
      "cell_type": "markdown",
      "metadata": {
        "id": "EdS-wez7fVWa"
      },
      "source": [
        "#### Mudeli loomine"
      ]
    },
    {
      "cell_type": "code",
      "execution_count": 15,
      "metadata": {
        "id": "uKLobzc5FtnJ",
        "colab": {
          "base_uri": "https://localhost:8080/",
          "height": 353
        },
        "outputId": "6bbd8d21-4704-4aec-dffc-abbc130a8b49"
      },
      "outputs": [
        {
          "output_type": "display_data",
          "data": {
            "text/plain": [
              "\u001b[1mModel: \"sequential\"\u001b[0m\n"
            ],
            "text/html": [
              "<pre style=\"white-space:pre;overflow-x:auto;line-height:normal;font-family:Menlo,'DejaVu Sans Mono',consolas,'Courier New',monospace\"><span style=\"font-weight: bold\">Model: \"sequential\"</span>\n",
              "</pre>\n"
            ]
          },
          "metadata": {}
        },
        {
          "output_type": "display_data",
          "data": {
            "text/plain": [
              "┏━━━━━━━━━━━━━━━━━━━━━━━━━━━━━━━━━━━━━━┳━━━━━━━━━━━━━━━━━━━━━━━━━━━━━┳━━━━━━━━━━━━━━━━━┓\n",
              "┃\u001b[1m \u001b[0m\u001b[1mLayer (type)                        \u001b[0m\u001b[1m \u001b[0m┃\u001b[1m \u001b[0m\u001b[1mOutput Shape               \u001b[0m\u001b[1m \u001b[0m┃\u001b[1m \u001b[0m\u001b[1m        Param #\u001b[0m\u001b[1m \u001b[0m┃\n",
              "┡━━━━━━━━━━━━━━━━━━━━━━━━━━━━━━━━━━━━━━╇━━━━━━━━━━━━━━━━━━━━━━━━━━━━━╇━━━━━━━━━━━━━━━━━┩\n",
              "│ conv2d (\u001b[38;5;33mConv2D\u001b[0m)                      │ (\u001b[38;5;45mNone\u001b[0m, \u001b[38;5;34m4676\u001b[0m, \u001b[38;5;34m255\u001b[0m, \u001b[38;5;34m16\u001b[0m)       │             \u001b[38;5;34m160\u001b[0m │\n",
              "├──────────────────────────────────────┼─────────────────────────────┼─────────────────┤\n",
              "│ max_pooling2d (\u001b[38;5;33mMaxPooling2D\u001b[0m)         │ (\u001b[38;5;45mNone\u001b[0m, \u001b[38;5;34m2338\u001b[0m, \u001b[38;5;34m127\u001b[0m, \u001b[38;5;34m16\u001b[0m)       │               \u001b[38;5;34m0\u001b[0m │\n",
              "├──────────────────────────────────────┼─────────────────────────────┼─────────────────┤\n",
              "│ conv2d_1 (\u001b[38;5;33mConv2D\u001b[0m)                    │ (\u001b[38;5;45mNone\u001b[0m, \u001b[38;5;34m2336\u001b[0m, \u001b[38;5;34m125\u001b[0m, \u001b[38;5;34m16\u001b[0m)       │           \u001b[38;5;34m2,320\u001b[0m │\n",
              "├──────────────────────────────────────┼─────────────────────────────┼─────────────────┤\n",
              "│ max_pooling2d_1 (\u001b[38;5;33mMaxPooling2D\u001b[0m)       │ (\u001b[38;5;45mNone\u001b[0m, \u001b[38;5;34m1168\u001b[0m, \u001b[38;5;34m62\u001b[0m, \u001b[38;5;34m16\u001b[0m)        │               \u001b[38;5;34m0\u001b[0m │\n",
              "├──────────────────────────────────────┼─────────────────────────────┼─────────────────┤\n",
              "│ flatten (\u001b[38;5;33mFlatten\u001b[0m)                    │ (\u001b[38;5;45mNone\u001b[0m, \u001b[38;5;34m1158656\u001b[0m)             │               \u001b[38;5;34m0\u001b[0m │\n",
              "├──────────────────────────────────────┼─────────────────────────────┼─────────────────┤\n",
              "│ dense (\u001b[38;5;33mDense\u001b[0m)                        │ (\u001b[38;5;45mNone\u001b[0m, \u001b[38;5;34m128\u001b[0m)                 │     \u001b[38;5;34m148,308,096\u001b[0m │\n",
              "├──────────────────────────────────────┼─────────────────────────────┼─────────────────┤\n",
              "│ dense_1 (\u001b[38;5;33mDense\u001b[0m)                      │ (\u001b[38;5;45mNone\u001b[0m, \u001b[38;5;34m10\u001b[0m)                  │           \u001b[38;5;34m1,290\u001b[0m │\n",
              "└──────────────────────────────────────┴─────────────────────────────┴─────────────────┘\n"
            ],
            "text/html": [
              "<pre style=\"white-space:pre;overflow-x:auto;line-height:normal;font-family:Menlo,'DejaVu Sans Mono',consolas,'Courier New',monospace\">┏━━━━━━━━━━━━━━━━━━━━━━━━━━━━━━━━━━━━━━┳━━━━━━━━━━━━━━━━━━━━━━━━━━━━━┳━━━━━━━━━━━━━━━━━┓\n",
              "┃<span style=\"font-weight: bold\"> Layer (type)                         </span>┃<span style=\"font-weight: bold\"> Output Shape                </span>┃<span style=\"font-weight: bold\">         Param # </span>┃\n",
              "┡━━━━━━━━━━━━━━━━━━━━━━━━━━━━━━━━━━━━━━╇━━━━━━━━━━━━━━━━━━━━━━━━━━━━━╇━━━━━━━━━━━━━━━━━┩\n",
              "│ conv2d (<span style=\"color: #0087ff; text-decoration-color: #0087ff\">Conv2D</span>)                      │ (<span style=\"color: #00d7ff; text-decoration-color: #00d7ff\">None</span>, <span style=\"color: #00af00; text-decoration-color: #00af00\">4676</span>, <span style=\"color: #00af00; text-decoration-color: #00af00\">255</span>, <span style=\"color: #00af00; text-decoration-color: #00af00\">16</span>)       │             <span style=\"color: #00af00; text-decoration-color: #00af00\">160</span> │\n",
              "├──────────────────────────────────────┼─────────────────────────────┼─────────────────┤\n",
              "│ max_pooling2d (<span style=\"color: #0087ff; text-decoration-color: #0087ff\">MaxPooling2D</span>)         │ (<span style=\"color: #00d7ff; text-decoration-color: #00d7ff\">None</span>, <span style=\"color: #00af00; text-decoration-color: #00af00\">2338</span>, <span style=\"color: #00af00; text-decoration-color: #00af00\">127</span>, <span style=\"color: #00af00; text-decoration-color: #00af00\">16</span>)       │               <span style=\"color: #00af00; text-decoration-color: #00af00\">0</span> │\n",
              "├──────────────────────────────────────┼─────────────────────────────┼─────────────────┤\n",
              "│ conv2d_1 (<span style=\"color: #0087ff; text-decoration-color: #0087ff\">Conv2D</span>)                    │ (<span style=\"color: #00d7ff; text-decoration-color: #00d7ff\">None</span>, <span style=\"color: #00af00; text-decoration-color: #00af00\">2336</span>, <span style=\"color: #00af00; text-decoration-color: #00af00\">125</span>, <span style=\"color: #00af00; text-decoration-color: #00af00\">16</span>)       │           <span style=\"color: #00af00; text-decoration-color: #00af00\">2,320</span> │\n",
              "├──────────────────────────────────────┼─────────────────────────────┼─────────────────┤\n",
              "│ max_pooling2d_1 (<span style=\"color: #0087ff; text-decoration-color: #0087ff\">MaxPooling2D</span>)       │ (<span style=\"color: #00d7ff; text-decoration-color: #00d7ff\">None</span>, <span style=\"color: #00af00; text-decoration-color: #00af00\">1168</span>, <span style=\"color: #00af00; text-decoration-color: #00af00\">62</span>, <span style=\"color: #00af00; text-decoration-color: #00af00\">16</span>)        │               <span style=\"color: #00af00; text-decoration-color: #00af00\">0</span> │\n",
              "├──────────────────────────────────────┼─────────────────────────────┼─────────────────┤\n",
              "│ flatten (<span style=\"color: #0087ff; text-decoration-color: #0087ff\">Flatten</span>)                    │ (<span style=\"color: #00d7ff; text-decoration-color: #00d7ff\">None</span>, <span style=\"color: #00af00; text-decoration-color: #00af00\">1158656</span>)             │               <span style=\"color: #00af00; text-decoration-color: #00af00\">0</span> │\n",
              "├──────────────────────────────────────┼─────────────────────────────┼─────────────────┤\n",
              "│ dense (<span style=\"color: #0087ff; text-decoration-color: #0087ff\">Dense</span>)                        │ (<span style=\"color: #00d7ff; text-decoration-color: #00d7ff\">None</span>, <span style=\"color: #00af00; text-decoration-color: #00af00\">128</span>)                 │     <span style=\"color: #00af00; text-decoration-color: #00af00\">148,308,096</span> │\n",
              "├──────────────────────────────────────┼─────────────────────────────┼─────────────────┤\n",
              "│ dense_1 (<span style=\"color: #0087ff; text-decoration-color: #0087ff\">Dense</span>)                      │ (<span style=\"color: #00d7ff; text-decoration-color: #00d7ff\">None</span>, <span style=\"color: #00af00; text-decoration-color: #00af00\">10</span>)                  │           <span style=\"color: #00af00; text-decoration-color: #00af00\">1,290</span> │\n",
              "└──────────────────────────────────────┴─────────────────────────────┴─────────────────┘\n",
              "</pre>\n"
            ]
          },
          "metadata": {}
        },
        {
          "output_type": "display_data",
          "data": {
            "text/plain": [
              "\u001b[1m Total params: \u001b[0m\u001b[38;5;34m148,311,866\u001b[0m (565.76 MB)\n"
            ],
            "text/html": [
              "<pre style=\"white-space:pre;overflow-x:auto;line-height:normal;font-family:Menlo,'DejaVu Sans Mono',consolas,'Courier New',monospace\"><span style=\"font-weight: bold\"> Total params: </span><span style=\"color: #00af00; text-decoration-color: #00af00\">148,311,866</span> (565.76 MB)\n",
              "</pre>\n"
            ]
          },
          "metadata": {}
        },
        {
          "output_type": "display_data",
          "data": {
            "text/plain": [
              "\u001b[1m Trainable params: \u001b[0m\u001b[38;5;34m148,311,866\u001b[0m (565.76 MB)\n"
            ],
            "text/html": [
              "<pre style=\"white-space:pre;overflow-x:auto;line-height:normal;font-family:Menlo,'DejaVu Sans Mono',consolas,'Courier New',monospace\"><span style=\"font-weight: bold\"> Trainable params: </span><span style=\"color: #00af00; text-decoration-color: #00af00\">148,311,866</span> (565.76 MB)\n",
              "</pre>\n"
            ]
          },
          "metadata": {}
        },
        {
          "output_type": "display_data",
          "data": {
            "text/plain": [
              "\u001b[1m Non-trainable params: \u001b[0m\u001b[38;5;34m0\u001b[0m (0.00 B)\n"
            ],
            "text/html": [
              "<pre style=\"white-space:pre;overflow-x:auto;line-height:normal;font-family:Menlo,'DejaVu Sans Mono',consolas,'Courier New',monospace\"><span style=\"font-weight: bold\"> Non-trainable params: </span><span style=\"color: #00af00; text-decoration-color: #00af00\">0</span> (0.00 B)\n",
              "</pre>\n"
            ]
          },
          "metadata": {}
        }
      ],
      "source": [
        "# Mudel 1 loomine\n",
        "model = Sequential([\n",
        "    Input(shape=(4678, 257, 1)),\n",
        "    Conv2D(16, (3, 3), activation=\"relu\"),\n",
        "    MaxPooling2D(pool_size=(2, 2)),\n",
        "    Conv2D(16, (3, 3), activation=\"relu\"),\n",
        "    MaxPooling2D(pool_size=(2, 2)),\n",
        "    Flatten(),\n",
        "    Dense(128, activation=\"relu\"),\n",
        "    Dense(10, activation=\"softmax\")\n",
        "  \t])\n",
        "\n",
        "model.compile(optimizer=\"adam\", loss=\"categorical_crossentropy\", metrics=[tf.keras.metrics.Recall(), tf.keras.metrics.Precision()])\n",
        "model.summary()"
      ]
    },
    {
      "cell_type": "code",
      "source": [
        "# Mudeli treenimine - tehakse 20 epohhi\n",
        "hist = model.fit(X_train, y_train, epochs = 20, batch_size = 32)"
      ],
      "metadata": {
        "id": "O3tFwkX3gqxG",
        "colab": {
          "base_uri": "https://localhost:8080/"
        },
        "outputId": "4d59f335-3b04-4ac7-ac39-c352da378e54"
      },
      "execution_count": 16,
      "outputs": [
        {
          "output_type": "stream",
          "name": "stdout",
          "text": [
            "Epoch 1/20\n",
            "\u001b[1m13/13\u001b[0m \u001b[32m━━━━━━━━━━━━━━━━━━━━\u001b[0m\u001b[37m\u001b[0m \u001b[1m44s\u001b[0m 1s/step - loss: 2.3046 - precision: 0.0000e+00 - recall: 0.0000e+00\n",
            "Epoch 2/20\n",
            "\u001b[1m13/13\u001b[0m \u001b[32m━━━━━━━━━━━━━━━━━━━━\u001b[0m\u001b[37m\u001b[0m \u001b[1m45s\u001b[0m 364ms/step - loss: 2.1378 - precision: 0.6321 - recall: 0.0098\n",
            "Epoch 3/20\n",
            "\u001b[1m13/13\u001b[0m \u001b[32m━━━━━━━━━━━━━━━━━━━━\u001b[0m\u001b[37m\u001b[0m \u001b[1m5s\u001b[0m 352ms/step - loss: 1.7372 - precision: 0.9634 - recall: 0.1627\n",
            "Epoch 4/20\n",
            "\u001b[1m13/13\u001b[0m \u001b[32m━━━━━━━━━━━━━━━━━━━━\u001b[0m\u001b[37m\u001b[0m \u001b[1m5s\u001b[0m 373ms/step - loss: 1.3263 - precision: 0.9879 - recall: 0.3313\n",
            "Epoch 5/20\n",
            "\u001b[1m13/13\u001b[0m \u001b[32m━━━━━━━━━━━━━━━━━━━━\u001b[0m\u001b[37m\u001b[0m \u001b[1m5s\u001b[0m 356ms/step - loss: 0.9490 - precision: 0.9703 - recall: 0.5360\n",
            "Epoch 6/20\n",
            "\u001b[1m13/13\u001b[0m \u001b[32m━━━━━━━━━━━━━━━━━━━━\u001b[0m\u001b[37m\u001b[0m \u001b[1m5s\u001b[0m 355ms/step - loss: 0.8028 - precision: 0.9949 - recall: 0.6120\n",
            "Epoch 7/20\n",
            "\u001b[1m13/13\u001b[0m \u001b[32m━━━━━━━━━━━━━━━━━━━━\u001b[0m\u001b[37m\u001b[0m \u001b[1m5s\u001b[0m 377ms/step - loss: 0.6534 - precision: 0.9868 - recall: 0.6637\n",
            "Epoch 8/20\n",
            "\u001b[1m13/13\u001b[0m \u001b[32m━━━━━━━━━━━━━━━━━━━━\u001b[0m\u001b[37m\u001b[0m \u001b[1m5s\u001b[0m 363ms/step - loss: 0.8794 - precision: 0.9593 - recall: 0.6411\n",
            "Epoch 9/20\n",
            "\u001b[1m13/13\u001b[0m \u001b[32m━━━━━━━━━━━━━━━━━━━━\u001b[0m\u001b[37m\u001b[0m \u001b[1m5s\u001b[0m 356ms/step - loss: 0.7971 - precision: 0.9837 - recall: 0.6413\n",
            "Epoch 10/20\n",
            "\u001b[1m13/13\u001b[0m \u001b[32m━━━━━━━━━━━━━━━━━━━━\u001b[0m\u001b[37m\u001b[0m \u001b[1m5s\u001b[0m 369ms/step - loss: 0.6863 - precision: 0.9795 - recall: 0.6768\n",
            "Epoch 11/20\n",
            "\u001b[1m13/13\u001b[0m \u001b[32m━━━━━━━━━━━━━━━━━━━━\u001b[0m\u001b[37m\u001b[0m \u001b[1m10s\u001b[0m 361ms/step - loss: 0.3988 - precision: 0.9850 - recall: 0.8153\n",
            "Epoch 12/20\n",
            "\u001b[1m13/13\u001b[0m \u001b[32m━━━━━━━━━━━━━━━━━━━━\u001b[0m\u001b[37m\u001b[0m \u001b[1m5s\u001b[0m 367ms/step - loss: 0.3854 - precision: 1.0000 - recall: 0.7895\n",
            "Epoch 13/20\n",
            "\u001b[1m13/13\u001b[0m \u001b[32m━━━━━━━━━━━━━━━━━━━━\u001b[0m\u001b[37m\u001b[0m \u001b[1m5s\u001b[0m 360ms/step - loss: 0.4286 - precision: 0.9993 - recall: 0.7841\n",
            "Epoch 14/20\n",
            "\u001b[1m13/13\u001b[0m \u001b[32m━━━━━━━━━━━━━━━━━━━━\u001b[0m\u001b[37m\u001b[0m \u001b[1m5s\u001b[0m 363ms/step - loss: 0.3589 - precision: 0.9754 - recall: 0.8167\n",
            "Epoch 15/20\n",
            "\u001b[1m13/13\u001b[0m \u001b[32m━━━━━━━━━━━━━━━━━━━━\u001b[0m\u001b[37m\u001b[0m \u001b[1m5s\u001b[0m 370ms/step - loss: 0.2588 - precision: 0.9975 - recall: 0.8562\n",
            "Epoch 16/20\n",
            "\u001b[1m13/13\u001b[0m \u001b[32m━━━━━━━━━━━━━━━━━━━━\u001b[0m\u001b[37m\u001b[0m \u001b[1m5s\u001b[0m 360ms/step - loss: 0.4186 - precision: 0.9848 - recall: 0.8632\n",
            "Epoch 17/20\n",
            "\u001b[1m13/13\u001b[0m \u001b[32m━━━━━━━━━━━━━━━━━━━━\u001b[0m\u001b[37m\u001b[0m \u001b[1m5s\u001b[0m 364ms/step - loss: 0.5179 - precision: 0.9785 - recall: 0.8266\n",
            "Epoch 18/20\n",
            "\u001b[1m13/13\u001b[0m \u001b[32m━━━━━━━━━━━━━━━━━━━━\u001b[0m\u001b[37m\u001b[0m \u001b[1m5s\u001b[0m 370ms/step - loss: 0.4532 - precision: 0.9905 - recall: 0.7853\n",
            "Epoch 19/20\n",
            "\u001b[1m13/13\u001b[0m \u001b[32m━━━━━━━━━━━━━━━━━━━━\u001b[0m\u001b[37m\u001b[0m \u001b[1m5s\u001b[0m 361ms/step - loss: 0.2790 - precision: 0.9952 - recall: 0.8605\n",
            "Epoch 20/20\n",
            "\u001b[1m13/13\u001b[0m \u001b[32m━━━━━━━━━━━━━━━━━━━━\u001b[0m\u001b[37m\u001b[0m \u001b[1m5s\u001b[0m 367ms/step - loss: 0.2566 - precision: 0.9973 - recall: 0.8844\n"
          ]
        }
      ]
    },
    {
      "cell_type": "code",
      "source": [
        "# Lossi jälgmine\n",
        "plt.title(\"Mudeli 1 loss\")\n",
        "plt.plot(range(1, 21), hist.history[\"loss\"], \"r\")\n",
        "plt.show()"
      ],
      "metadata": {
        "colab": {
          "base_uri": "https://localhost:8080/",
          "height": 452
        },
        "id": "pSiRoX8Ulq0N",
        "outputId": "a1d124e3-2813-477a-beaf-0a8e5fea786d"
      },
      "execution_count": 17,
      "outputs": [
        {
          "output_type": "display_data",
          "data": {
            "text/plain": [
              "<Figure size 640x480 with 1 Axes>"
            ],
            "image/png": "[encoded data removed]"
          },
          "metadata": {}
        }
      ]
    },
    {
      "cell_type": "markdown",
      "source": [
        "#### Mudeli testimine"
      ],
      "metadata": {
        "id": "TKVyLkMvkUdm"
      }
    },
    {
      "cell_type": "code",
      "source": [
        "# Mudeli peal testandmete ennustamine\n",
        "y_pred = model.predict(X_test)\n",
        "# Vaatame, mis klassi kõige tõenäolisemalt ennustatakse\n",
        "y_pred_classes = np.argmax(y_pred, axis=1)\n",
        "actual = np.argmax(y_test, axis=1)\n",
        "# Vaatame, mis mudel ennustas ja mis oli tegelikult õige\n",
        "print(f\"Testandmeid on {len(X_test)}.\")\n",
        "for i in range(len(y_pred)):\n",
        "    print(f\"Ennustus: {y_pred_classes[i]}, Tegelik: {actual[i]}\")\n",
        "# Leiame täpsuse testandmetel\n",
        "accuracy = accuracy_score(actual, y_pred_classes)\n",
        "print(\"Täpsus:\", accuracy)"
      ],
      "metadata": {
        "id": "bPv_GTuPsK9c",
        "colab": {
          "base_uri": "https://localhost:8080/"
        },
        "outputId": "4ef82c6e-4b9b-4b19-8131-924263ed04f0"
      },
      "execution_count": 18,
      "outputs": [
        {
          "output_type": "stream",
          "name": "stdout",
          "text": [
            "\u001b[1m4/4\u001b[0m \u001b[32m━━━━━━━━━━━━━━━━━━━━\u001b[0m\u001b[37m\u001b[0m \u001b[1m3s\u001b[0m 825ms/step\n",
            "Testandmeid on 100.\n",
            "Ennustus: 3, Tegelik: 7\n",
            "Ennustus: 1, Tegelik: 1\n",
            "Ennustus: 3, Tegelik: 7\n",
            "Ennustus: 8, Tegelik: 3\n",
            "Ennustus: 2, Tegelik: 2\n",
            "Ennustus: 0, Tegelik: 7\n",
            "Ennustus: 5, Tegelik: 7\n",
            "Ennustus: 1, Tegelik: 2\n",
            "Ennustus: 1, Tegelik: 1\n",
            "Ennustus: 9, Tegelik: 9\n",
            "Ennustus: 0, Tegelik: 0\n",
            "Ennustus: 6, Tegelik: 3\n",
            "Ennustus: 8, Tegelik: 8\n",
            "Ennustus: 3, Tegelik: 1\n",
            "Ennustus: 3, Tegelik: 7\n",
            "Ennustus: 9, Tegelik: 7\n",
            "Ennustus: 8, Tegelik: 9\n",
            "Ennustus: 9, Tegelik: 0\n",
            "Ennustus: 2, Tegelik: 6\n",
            "Ennustus: 7, Tegelik: 8\n",
            "Ennustus: 6, Tegelik: 9\n",
            "Ennustus: 9, Tegelik: 9\n",
            "Ennustus: 5, Tegelik: 5\n",
            "Ennustus: 2, Tegelik: 7\n",
            "Ennustus: 6, Tegelik: 1\n",
            "Ennustus: 9, Tegelik: 9\n",
            "Ennustus: 3, Tegelik: 9\n",
            "Ennustus: 9, Tegelik: 4\n",
            "Ennustus: 7, Tegelik: 2\n",
            "Ennustus: 5, Tegelik: 6\n",
            "Ennustus: 4, Tegelik: 9\n",
            "Ennustus: 5, Tegelik: 6\n",
            "Ennustus: 9, Tegelik: 8\n",
            "Ennustus: 8, Tegelik: 3\n",
            "Ennustus: 2, Tegelik: 0\n",
            "Ennustus: 7, Tegelik: 6\n",
            "Ennustus: 9, Tegelik: 8\n",
            "Ennustus: 3, Tegelik: 1\n",
            "Ennustus: 8, Tegelik: 4\n",
            "Ennustus: 0, Tegelik: 1\n",
            "Ennustus: 9, Tegelik: 7\n",
            "Ennustus: 2, Tegelik: 1\n",
            "Ennustus: 9, Tegelik: 9\n",
            "Ennustus: 3, Tegelik: 3\n",
            "Ennustus: 4, Tegelik: 0\n",
            "Ennustus: 7, Tegelik: 1\n",
            "Ennustus: 5, Tegelik: 0\n",
            "Ennustus: 1, Tegelik: 0\n",
            "Ennustus: 6, Tegelik: 8\n",
            "Ennustus: 9, Tegelik: 0\n",
            "Ennustus: 3, Tegelik: 1\n",
            "Ennustus: 9, Tegelik: 3\n",
            "Ennustus: 2, Tegelik: 2\n",
            "Ennustus: 8, Tegelik: 8\n",
            "Ennustus: 0, Tegelik: 3\n",
            "Ennustus: 2, Tegelik: 1\n",
            "Ennustus: 9, Tegelik: 2\n",
            "Ennustus: 9, Tegelik: 0\n",
            "Ennustus: 4, Tegelik: 4\n",
            "Ennustus: 9, Tegelik: 1\n",
            "Ennustus: 9, Tegelik: 9\n",
            "Ennustus: 4, Tegelik: 5\n",
            "Ennustus: 8, Tegelik: 6\n",
            "Ennustus: 8, Tegelik: 9\n",
            "Ennustus: 0, Tegelik: 1\n",
            "Ennustus: 9, Tegelik: 0\n",
            "Ennustus: 0, Tegelik: 9\n",
            "Ennustus: 6, Tegelik: 0\n",
            "Ennustus: 4, Tegelik: 4\n",
            "Ennustus: 3, Tegelik: 7\n",
            "Ennustus: 0, Tegelik: 7\n",
            "Ennustus: 1, Tegelik: 6\n",
            "Ennustus: 5, Tegelik: 5\n",
            "Ennustus: 6, Tegelik: 5\n",
            "Ennustus: 0, Tegelik: 6\n",
            "Ennustus: 6, Tegelik: 6\n",
            "Ennustus: 5, Tegelik: 5\n",
            "Ennustus: 2, Tegelik: 1\n",
            "Ennustus: 0, Tegelik: 9\n",
            "Ennustus: 9, Tegelik: 9\n",
            "Ennustus: 9, Tegelik: 3\n",
            "Ennustus: 2, Tegelik: 1\n",
            "Ennustus: 4, Tegelik: 9\n",
            "Ennustus: 1, Tegelik: 3\n",
            "Ennustus: 1, Tegelik: 6\n",
            "Ennustus: 1, Tegelik: 1\n",
            "Ennustus: 2, Tegelik: 3\n",
            "Ennustus: 9, Tegelik: 8\n",
            "Ennustus: 0, Tegelik: 6\n",
            "Ennustus: 6, Tegelik: 5\n",
            "Ennustus: 9, Tegelik: 7\n",
            "Ennustus: 9, Tegelik: 9\n",
            "Ennustus: 3, Tegelik: 7\n",
            "Ennustus: 7, Tegelik: 6\n",
            "Ennustus: 3, Tegelik: 8\n",
            "Ennustus: 2, Tegelik: 6\n",
            "Ennustus: 6, Tegelik: 1\n",
            "Ennustus: 2, Tegelik: 1\n",
            "Ennustus: 3, Tegelik: 8\n",
            "Ennustus: 2, Tegelik: 0\n",
            "Täpsus: 0.22\n"
          ]
        }
      ]
    },
    {
      "cell_type": "markdown",
      "source": [
        "#### Mudeli 1 edasised katsetused\n",
        "Mudeli 1 edasikatsetusena proovime jaotada ühte heliklippi mitmeks klipiks. Proovime näha, kas sellel võiks olla positiivne mõju. Kahjuks ei jõudnud seda lõpetada ehk osad plokid on välja kommenteeritud. Aga idee jätsime alles, et oleks näha, et proovisime mudeli eeltöötlust edasi arendada."
      ],
      "metadata": {
        "id": "i60Dg-Cry-Rl"
      }
    },
    {
      "cell_type": "code",
      "source": [
        "# Laeb heliklipi, teeb audiotensoriks, resampleb 16 kHz monochanneliks\n",
        "# Võtab argumendiks tee failini\n",
        "# Tagastab modifitseeritud heliklipi\n",
        "def load_ogg_16k_mono(filename):\n",
        "    res = tfio.audio.AudioIOTensor(filename)\n",
        "    # Muudab tensoriks ja paneb channelid kokku\n",
        "    tensor = res.to_tensor()\n",
        "    tensor = tf.math.reduce_sum(tensor, axis=1) / 2\n",
        "    # Võtab sample ratei\n",
        "    sample_rate = res.rate\n",
        "    sample_rate = tf.cast(sample_rate, dtype=tf.int64)\n",
        "    # Resampleb 16 kHz\n",
        "    ogg = tfio.audio.resample(tensor, rate_in=sample_rate, rate_out=16000)\n",
        "    return ogg"
      ],
      "metadata": {
        "id": "4S6fAenDy9Xd"
      },
      "execution_count": 19,
      "outputs": []
    },
    {
      "cell_type": "code",
      "source": [
        "# Eeltöötluse testimine ühel heliklipil\n",
        "klipi_nimi = \"woosan/XC25111.ogg\"\n",
        "klipp = load_ogg_16k_mono(klipi_nimi)"
      ],
      "metadata": {
        "id": "Tz6QAL5rzeRN"
      },
      "execution_count": 20,
      "outputs": []
    },
    {
      "cell_type": "code",
      "source": [
        "# Eeltöötlus andmetele\n",
        "def preprocess_ogg(sample, index):\n",
        "    sample = sample[0]\n",
        "    zero_padding = tf.zeros([48000] - tf.shape(sample), dtype=tf.float32)\n",
        "    wav = tf.concat([zero_padding, sample],0)\n",
        "    spectrogram = tf.signal.stft(wav, frame_length=320, frame_step=32)\n",
        "    spectrogram = tf.abs(spectrogram)\n",
        "    spectrogram = tf.expand_dims(spectrogram, axis=2)\n",
        "    return spectrogram"
      ],
      "metadata": {
        "id": "fB0k1f3m1eEH"
      },
      "execution_count": 21,
      "outputs": []
    },
    {
      "cell_type": "code",
      "source": [
        "# Andmete eeltöötlus\n",
        "'''\n",
        "X_2 = []\n",
        "y_2 = []\n",
        "\n",
        "liigid = [\"commoo3\", \"gargan\", \"kenplo1\", \"nutman\", \"pursun4\", \"zitcis\", \"wemhar1\", \"woosan\", \"asbfly\", \"ashdro1\"]\n",
        "files = []\n",
        "# Eeltöötluse katsetamine\n",
        "liik = liigid[0]\n",
        "liigi_failid = glob.glob(liik+\"/*.ogg\")\n",
        "\n",
        "for f in liigi_failid[:10]:\n",
        "  klipp = load_ogg_16k_mono(f)\n",
        "\n",
        "  audio_slices = tf.keras.utils.timeseries_dataset_from_array(klipp, klipp, sequence_length=16000, sequence_stride=16000, batch_size=1)\n",
        "  audio_slices = audio_slices.map(preprocess_ogg)\n",
        "  audio_slices = audio_slices.batch(64)\n",
        "\n",
        "  for s in audio_slices:\n",
        "    for el in s:\n",
        "      X.append(el)\n",
        "      y.append(0)\n",
        "'''"
      ],
      "metadata": {
        "id": "XMqiDk_v2XJh"
      },
      "execution_count": null,
      "outputs": []
    },
    {
      "cell_type": "code",
      "source": [
        "# Mudel 1.2\n",
        "'''\n",
        "model = Sequential([\n",
        "    Input(shape=(1491, 257, 1)),\n",
        "    Conv2D(16, (3, 3), activation=\"relu\"),\n",
        "    MaxPooling2D(pool_size=(2, 2)),\n",
        "    Conv2D(16, (3, 3), activation=\"relu\"),\n",
        "    MaxPooling2D(pool_size=(2, 2)),\n",
        "    Flatten(),\n",
        "    Dense(128, activation=\"relu\"),\n",
        "    Dense(10, activation=\"softmax\")\n",
        "  \t])\n",
        "\n",
        "model.compile(optimizer=\"adam\", loss=\"sparse_categorical_crossentropy\", metrics=[tf.keras.metrics.Recall(), tf.keras.metrics.Precision()])\n",
        "'''"
      ],
      "metadata": {
        "id": "ip-UxHTO57kL"
      },
      "execution_count": null,
      "outputs": []
    },
    {
      "cell_type": "code",
      "source": [
        "#hist = model.fit(X_2, y_2, epochs = 4, batch_size = 32)"
      ],
      "metadata": {
        "id": "pZPNG7UX6Ct6"
      },
      "execution_count": null,
      "outputs": []
    },
    {
      "cell_type": "code",
      "source": [
        "'''\n",
        "plt.title(\"Mudeli 1.2 loss\")\n",
        "plt.plot(range(1, 21), hist.history[\"loss\"], \"r\")\n",
        "plt.show()\n",
        "'''"
      ],
      "metadata": {
        "id": "vUuHsDDknsBJ"
      },
      "execution_count": null,
      "outputs": []
    },
    {
      "cell_type": "markdown",
      "source": [
        "### Mudel 2 - MFCCs\n",
        "\"Mel Frequency Cepstral Coefficents (MFCCs) is a way of extracting features from an audio.\"\n",
        "\n",
        "Audiote klassifitseerimisel on lisaks võimalik kasutada MFCCs. Kuna MFCCs väljund on teistsugune võrreldes spektogrammi omaga, on põneva näha kuidas mudelid omavahel erinevad ja milline neist paremini ennustab.\n",
        "\n",
        "Mudel baseerub Mediumi artiklil “Unveiling the Magic of Voice Classification with MFCC and DNN” (link - https://medium.com/@muradatcorvit23/unveiling-the-magic-of-voice-classification-with-mfcc-and-dnn-196830bbff80)."
      ],
      "metadata": {
        "id": "R7b7dMaGCwsL"
      }
    },
    {
      "cell_type": "markdown",
      "source": [
        "#### Eeltöötlus"
      ],
      "metadata": {
        "id": "kvdCKARVqAjV"
      }
    },
    {
      "cell_type": "code",
      "source": [
        "# Failide eeltöötlus, võtav sisendiks järjendi, kus on ennikud, mille esimesel kohal on audiofaili tee ja teisel kohal label numbrina\n",
        "# Vaikeväärtustena on sr - Sample rate = 22050, n_mfcc = 13, seg_len - Segmenth length in seconds = 5\n",
        "\n",
        "# Kõike võib vastavalt vajadusele muuta, ühes kohas, funktsiooni päises\n",
        "# sr = 22050 või 44100?, ei tea kas 44100 läheks paljuks\n",
        "# n_mfcc = 13, kuid suurem peaks parem olema, ent mingisuguse maani\n",
        "# seg_len = 5, kuidas soovime\n",
        "def process_files(files, sr = 22050, n_mfcc=13, seg_len = 5):\n",
        "  # Kogume eraldi kokku MFCCs ja labelid\n",
        "  segment_mfccs = []\n",
        "  labels = []\n",
        "  # Käime läbi kõik etteantud failid\n",
        "  for file_path, label in files:\n",
        "    audio, sr = librosa.load(file_path, sr=sr)\n",
        "    # Võtame tervest audiost kindla pikkusega sämpli.\n",
        "    sample_segment_len = int(seg_len * sr)\n",
        "    #Kontrollime, et audio oleks ikka korrektse pikkusega.\n",
        "    #Kui ei ole, paddime vaikusega (0-idega)\n",
        "    if len(audio) < sample_segment_len:\n",
        "      padding = sample_segment_len - len(audio)\n",
        "      audio = np.pad(audio, (0, padding), 'constant')\n",
        "\n",
        "    # Kindla pikkusega klipp võetakse suvaliselt. Ei ole grantiid, et see klipp ei ole vaikus vms.\n",
        "    # Ideaalis võiks võtta klipi, milles on kõige enam infot\n",
        "    # Hea kasutada kui ei saa eraldada nii palju ajalist ressurssi\n",
        "    #start_sample = random.randint(0, (len(audio) - sample_segment_len))\n",
        "    #sample = audio[start_sample:(start_sample + sample_segment_len)]\n",
        "\n",
        "    # Valime heliklipist jupi potentsiaalselt \"suurima energiaga\"\n",
        "    # See võib failide arvu kasvades kulukaks tööks minna\n",
        "    if len(audio) > sample_segment_len:\n",
        "      segments = int(len(audio) / sample_segment_len)\n",
        "      energy = [np.sum(np.square(audio[i * sample_segment_len:(i + 1) * sample_segment_len])) for i in range(segments)]\n",
        "      valik = np.argmax(energy)\n",
        "      start_sample = valik * sample_segment_len\n",
        "      sample = audio[start_sample:start_sample + sample_segment_len]\n",
        "    else:\n",
        "      sample = audio\n",
        "\n",
        "    # Normaliseerimine\n",
        "    sample = librosa.util.normalize(sample)\n",
        "    # MFCCs võtmine.\n",
        "    mfccs = librosa.feature.mfcc(y=sample, sr=sr, n_mfcc=13)\n",
        "    segment_mfccs.append(mfccs)\n",
        "    labels.append(label)\n",
        "  return segment_mfccs, labels"
      ],
      "metadata": {
        "id": "mvCK12GLHNY1"
      },
      "execution_count": 23,
      "outputs": []
    },
    {
      "cell_type": "code",
      "source": [
        "# Võtame 10 linnuliiki ja igaühel on 50 heliklippi\n",
        "liigid = ['asbfly', 'ashdro1', 'commoo3', 'gargan', 'kenplo1', 'nutman', 'pursun4', 'wemhar1', 'woosan', 'zitcis']"
      ],
      "metadata": {
        "id": "2U4QTMkMmEc2"
      },
      "execution_count": 24,
      "outputs": []
    },
    {
      "cell_type": "code",
      "source": [
        "# Kõigi failide sisse lugemine ja labeli numbri lisamine\n",
        "files = []\n",
        "for i in range(len(liigid)):\n",
        "  liik = liigid[i]\n",
        "  liigi_failid = glob.glob(liik+\"/*.ogg\")\n",
        "  for f in liigi_failid:\n",
        "    files.append((f, i))\n",
        "# Ajan järjendis heliklipid segamine, et edaspidi oleks lihtsam treening ja testandmeteks jagada\n",
        "np.random.shuffle(files)"
      ],
      "metadata": {
        "id": "kcOfeAV6R0jQ"
      },
      "execution_count": 25,
      "outputs": []
    },
    {
      "cell_type": "code",
      "source": [
        "# Andmete eeltöötlus\n",
        "X, y = process_files(files)\n",
        "#Klasside numbrid dünaamiliselt ja traintest suuruse määramine. Hetkel on testandmete suurus 20%\n",
        "num_of_classes = len(np.unique(y)) + 1\n",
        "traintest_size = 0.2\n",
        "# Ennustava atribuudi one-hot encodimine, et seda anda mudelile ette\n",
        "y = to_categorical(y, num_classes=num_of_classes)\n",
        "\n",
        "# Probleem: andmed on arrayde arrayd, flattenib iga array X-is, et sobiks standarscalerile\n",
        "# Teeb listi 2D arrayks\n",
        "X_flattened = np.array([item.flatten() for item in X])\n",
        "\n",
        "# StandardScaleme\n",
        "scaler = StandardScaler()\n",
        "X_scaled = scaler.fit_transform(X_flattened)\n",
        "\n",
        "# Rehsape tagasi\n",
        "feature_count = X[0].shape[0]\n",
        "time_steps = X[0].shape[1]\n",
        "X_scaled = X_scaled.reshape(len(X_scaled), feature_count, time_steps, 1)\n",
        "\n",
        "# Train test split\n",
        "test_len = int(len(X_scaled) * traintest_size)\n",
        "X_train = X_scaled[test_len:]\n",
        "y_train = y[test_len:]\n",
        "X_test = X_scaled[:test_len]\n",
        "y_test = y[:test_len]"
      ],
      "metadata": {
        "id": "-lasslJQcrpu"
      },
      "execution_count": 36,
      "outputs": []
    },
    {
      "cell_type": "markdown",
      "source": [
        "#### Mudeli loomine"
      ],
      "metadata": {
        "id": "Zui1zp_ZqIeI"
      }
    },
    {
      "cell_type": "code",
      "source": [
        "# Mudeli loomine\n",
        "model2 = Sequential([\n",
        "    Input(shape=(feature_count, time_steps, 1)),\n",
        "    Conv2D(16, (3, 3), activation=\"relu\", padding=\"same\"),\n",
        "    Dropout(0.25),\n",
        "    Conv2D(16, (3, 3), activation=\"relu\", padding=\"same\"),\n",
        "    Flatten(),\n",
        "    Dense(24, activation=\"relu\"),\n",
        "    Dropout(0.5),\n",
        "    Dense(num_of_classes, activation=\"softmax\")\n",
        "])\n",
        "\n",
        "# Compile ja fit\n",
        "model2.compile(optimizer=\"adam\", loss=\"categorical_crossentropy\", metrics=[\"accuracy\"])\n",
        "model2.summary()\n",
        "hist = model2.fit(X_train, y_train, epochs=20, batch_size=32)"
      ],
      "metadata": {
        "colab": {
          "base_uri": "https://localhost:8080/",
          "height": 1000
        },
        "id": "J3cRvRSrqHZb",
        "outputId": "e5b975b8-ae40-4838-a39e-f785d00c3714"
      },
      "execution_count": 44,
      "outputs": [
        {
          "output_type": "display_data",
          "data": {
            "text/plain": [
              "\u001b[1mModel: \"sequential_9\"\u001b[0m\n"
            ],
            "text/html": [
              "<pre style=\"white-space:pre;overflow-x:auto;line-height:normal;font-family:Menlo,'DejaVu Sans Mono',consolas,'Courier New',monospace\"><span style=\"font-weight: bold\">Model: \"sequential_9\"</span>\n",
              "</pre>\n"
            ]
          },
          "metadata": {}
        },
        {
          "output_type": "display_data",
          "data": {
            "text/plain": [
              "┏━━━━━━━━━━━━━━━━━━━━━━━━━━━━━━━━━━━━━━┳━━━━━━━━━━━━━━━━━━━━━━━━━━━━━┳━━━━━━━━━━━━━━━━━┓\n",
              "┃\u001b[1m \u001b[0m\u001b[1mLayer (type)                        \u001b[0m\u001b[1m \u001b[0m┃\u001b[1m \u001b[0m\u001b[1mOutput Shape               \u001b[0m\u001b[1m \u001b[0m┃\u001b[1m \u001b[0m\u001b[1m        Param #\u001b[0m\u001b[1m \u001b[0m┃\n",
              "┡━━━━━━━━━━━━━━━━━━━━━━━━━━━━━━━━━━━━━━╇━━━━━━━━━━━━━━━━━━━━━━━━━━━━━╇━━━━━━━━━━━━━━━━━┩\n",
              "│ conv2d_18 (\u001b[38;5;33mConv2D\u001b[0m)                   │ (\u001b[38;5;45mNone\u001b[0m, \u001b[38;5;34m13\u001b[0m, \u001b[38;5;34m216\u001b[0m, \u001b[38;5;34m16\u001b[0m)         │             \u001b[38;5;34m160\u001b[0m │\n",
              "├──────────────────────────────────────┼─────────────────────────────┼─────────────────┤\n",
              "│ dropout_16 (\u001b[38;5;33mDropout\u001b[0m)                 │ (\u001b[38;5;45mNone\u001b[0m, \u001b[38;5;34m13\u001b[0m, \u001b[38;5;34m216\u001b[0m, \u001b[38;5;34m16\u001b[0m)         │               \u001b[38;5;34m0\u001b[0m │\n",
              "├──────────────────────────────────────┼─────────────────────────────┼─────────────────┤\n",
              "│ conv2d_19 (\u001b[38;5;33mConv2D\u001b[0m)                   │ (\u001b[38;5;45mNone\u001b[0m, \u001b[38;5;34m13\u001b[0m, \u001b[38;5;34m216\u001b[0m, \u001b[38;5;34m16\u001b[0m)         │           \u001b[38;5;34m2,320\u001b[0m │\n",
              "├──────────────────────────────────────┼─────────────────────────────┼─────────────────┤\n",
              "│ flatten_9 (\u001b[38;5;33mFlatten\u001b[0m)                  │ (\u001b[38;5;45mNone\u001b[0m, \u001b[38;5;34m44928\u001b[0m)               │               \u001b[38;5;34m0\u001b[0m │\n",
              "├──────────────────────────────────────┼─────────────────────────────┼─────────────────┤\n",
              "│ dense_18 (\u001b[38;5;33mDense\u001b[0m)                     │ (\u001b[38;5;45mNone\u001b[0m, \u001b[38;5;34m24\u001b[0m)                  │       \u001b[38;5;34m1,078,296\u001b[0m │\n",
              "├──────────────────────────────────────┼─────────────────────────────┼─────────────────┤\n",
              "│ dropout_17 (\u001b[38;5;33mDropout\u001b[0m)                 │ (\u001b[38;5;45mNone\u001b[0m, \u001b[38;5;34m24\u001b[0m)                  │               \u001b[38;5;34m0\u001b[0m │\n",
              "├──────────────────────────────────────┼─────────────────────────────┼─────────────────┤\n",
              "│ dense_19 (\u001b[38;5;33mDense\u001b[0m)                     │ (\u001b[38;5;45mNone\u001b[0m, \u001b[38;5;34m11\u001b[0m)                  │             \u001b[38;5;34m275\u001b[0m │\n",
              "└──────────────────────────────────────┴─────────────────────────────┴─────────────────┘\n"
            ],
            "text/html": [
              "<pre style=\"white-space:pre;overflow-x:auto;line-height:normal;font-family:Menlo,'DejaVu Sans Mono',consolas,'Courier New',monospace\">┏━━━━━━━━━━━━━━━━━━━━━━━━━━━━━━━━━━━━━━┳━━━━━━━━━━━━━━━━━━━━━━━━━━━━━┳━━━━━━━━━━━━━━━━━┓\n",
              "┃<span style=\"font-weight: bold\"> Layer (type)                         </span>┃<span style=\"font-weight: bold\"> Output Shape                </span>┃<span style=\"font-weight: bold\">         Param # </span>┃\n",
              "┡━━━━━━━━━━━━━━━━━━━━━━━━━━━━━━━━━━━━━━╇━━━━━━━━━━━━━━━━━━━━━━━━━━━━━╇━━━━━━━━━━━━━━━━━┩\n",
              "│ conv2d_18 (<span style=\"color: #0087ff; text-decoration-color: #0087ff\">Conv2D</span>)                   │ (<span style=\"color: #00d7ff; text-decoration-color: #00d7ff\">None</span>, <span style=\"color: #00af00; text-decoration-color: #00af00\">13</span>, <span style=\"color: #00af00; text-decoration-color: #00af00\">216</span>, <span style=\"color: #00af00; text-decoration-color: #00af00\">16</span>)         │             <span style=\"color: #00af00; text-decoration-color: #00af00\">160</span> │\n",
              "├──────────────────────────────────────┼─────────────────────────────┼─────────────────┤\n",
              "│ dropout_16 (<span style=\"color: #0087ff; text-decoration-color: #0087ff\">Dropout</span>)                 │ (<span style=\"color: #00d7ff; text-decoration-color: #00d7ff\">None</span>, <span style=\"color: #00af00; text-decoration-color: #00af00\">13</span>, <span style=\"color: #00af00; text-decoration-color: #00af00\">216</span>, <span style=\"color: #00af00; text-decoration-color: #00af00\">16</span>)         │               <span style=\"color: #00af00; text-decoration-color: #00af00\">0</span> │\n",
              "├──────────────────────────────────────┼─────────────────────────────┼─────────────────┤\n",
              "│ conv2d_19 (<span style=\"color: #0087ff; text-decoration-color: #0087ff\">Conv2D</span>)                   │ (<span style=\"color: #00d7ff; text-decoration-color: #00d7ff\">None</span>, <span style=\"color: #00af00; text-decoration-color: #00af00\">13</span>, <span style=\"color: #00af00; text-decoration-color: #00af00\">216</span>, <span style=\"color: #00af00; text-decoration-color: #00af00\">16</span>)         │           <span style=\"color: #00af00; text-decoration-color: #00af00\">2,320</span> │\n",
              "├──────────────────────────────────────┼─────────────────────────────┼─────────────────┤\n",
              "│ flatten_9 (<span style=\"color: #0087ff; text-decoration-color: #0087ff\">Flatten</span>)                  │ (<span style=\"color: #00d7ff; text-decoration-color: #00d7ff\">None</span>, <span style=\"color: #00af00; text-decoration-color: #00af00\">44928</span>)               │               <span style=\"color: #00af00; text-decoration-color: #00af00\">0</span> │\n",
              "├──────────────────────────────────────┼─────────────────────────────┼─────────────────┤\n",
              "│ dense_18 (<span style=\"color: #0087ff; text-decoration-color: #0087ff\">Dense</span>)                     │ (<span style=\"color: #00d7ff; text-decoration-color: #00d7ff\">None</span>, <span style=\"color: #00af00; text-decoration-color: #00af00\">24</span>)                  │       <span style=\"color: #00af00; text-decoration-color: #00af00\">1,078,296</span> │\n",
              "├──────────────────────────────────────┼─────────────────────────────┼─────────────────┤\n",
              "│ dropout_17 (<span style=\"color: #0087ff; text-decoration-color: #0087ff\">Dropout</span>)                 │ (<span style=\"color: #00d7ff; text-decoration-color: #00d7ff\">None</span>, <span style=\"color: #00af00; text-decoration-color: #00af00\">24</span>)                  │               <span style=\"color: #00af00; text-decoration-color: #00af00\">0</span> │\n",
              "├──────────────────────────────────────┼─────────────────────────────┼─────────────────┤\n",
              "│ dense_19 (<span style=\"color: #0087ff; text-decoration-color: #0087ff\">Dense</span>)                     │ (<span style=\"color: #00d7ff; text-decoration-color: #00d7ff\">None</span>, <span style=\"color: #00af00; text-decoration-color: #00af00\">11</span>)                  │             <span style=\"color: #00af00; text-decoration-color: #00af00\">275</span> │\n",
              "└──────────────────────────────────────┴─────────────────────────────┴─────────────────┘\n",
              "</pre>\n"
            ]
          },
          "metadata": {}
        },
        {
          "output_type": "display_data",
          "data": {
            "text/plain": [
              "\u001b[1m Total params: \u001b[0m\u001b[38;5;34m1,081,051\u001b[0m (4.12 MB)\n"
            ],
            "text/html": [
              "<pre style=\"white-space:pre;overflow-x:auto;line-height:normal;font-family:Menlo,'DejaVu Sans Mono',consolas,'Courier New',monospace\"><span style=\"font-weight: bold\"> Total params: </span><span style=\"color: #00af00; text-decoration-color: #00af00\">1,081,051</span> (4.12 MB)\n",
              "</pre>\n"
            ]
          },
          "metadata": {}
        },
        {
          "output_type": "display_data",
          "data": {
            "text/plain": [
              "\u001b[1m Trainable params: \u001b[0m\u001b[38;5;34m1,081,051\u001b[0m (4.12 MB)\n"
            ],
            "text/html": [
              "<pre style=\"white-space:pre;overflow-x:auto;line-height:normal;font-family:Menlo,'DejaVu Sans Mono',consolas,'Courier New',monospace\"><span style=\"font-weight: bold\"> Trainable params: </span><span style=\"color: #00af00; text-decoration-color: #00af00\">1,081,051</span> (4.12 MB)\n",
              "</pre>\n"
            ]
          },
          "metadata": {}
        },
        {
          "output_type": "display_data",
          "data": {
            "text/plain": [
              "\u001b[1m Non-trainable params: \u001b[0m\u001b[38;5;34m0\u001b[0m (0.00 B)\n"
            ],
            "text/html": [
              "<pre style=\"white-space:pre;overflow-x:auto;line-height:normal;font-family:Menlo,'DejaVu Sans Mono',consolas,'Courier New',monospace\"><span style=\"font-weight: bold\"> Non-trainable params: </span><span style=\"color: #00af00; text-decoration-color: #00af00\">0</span> (0.00 B)\n",
              "</pre>\n"
            ]
          },
          "metadata": {}
        },
        {
          "output_type": "stream",
          "name": "stdout",
          "text": [
            "Epoch 1/20\n",
            "\u001b[1m13/13\u001b[0m \u001b[32m━━━━━━━━━━━━━━━━━━━━\u001b[0m\u001b[37m\u001b[0m \u001b[1m8s\u001b[0m 262ms/step - accuracy: 0.1102 - loss: 2.9357\n",
            "Epoch 2/20\n",
            "\u001b[1m13/13\u001b[0m \u001b[32m━━━━━━━━━━━━━━━━━━━━\u001b[0m\u001b[37m\u001b[0m \u001b[1m4s\u001b[0m 6ms/step - accuracy: 0.1255 - loss: 2.3575\n",
            "Epoch 3/20\n",
            "\u001b[1m13/13\u001b[0m \u001b[32m━━━━━━━━━━━━━━━━━━━━\u001b[0m\u001b[37m\u001b[0m \u001b[1m0s\u001b[0m 6ms/step - accuracy: 0.1031 - loss: 2.3427\n",
            "Epoch 4/20\n",
            "\u001b[1m13/13\u001b[0m \u001b[32m━━━━━━━━━━━━━━━━━━━━\u001b[0m\u001b[37m\u001b[0m \u001b[1m0s\u001b[0m 6ms/step - accuracy: 0.1390 - loss: 2.3248\n",
            "Epoch 5/20\n",
            "\u001b[1m13/13\u001b[0m \u001b[32m━━━━━━━━━━━━━━━━━━━━\u001b[0m\u001b[37m\u001b[0m \u001b[1m0s\u001b[0m 6ms/step - accuracy: 0.1570 - loss: 2.3143\n",
            "Epoch 6/20\n",
            "\u001b[1m13/13\u001b[0m \u001b[32m━━━━━━━━━━━━━━━━━━━━\u001b[0m\u001b[37m\u001b[0m \u001b[1m0s\u001b[0m 6ms/step - accuracy: 0.1281 - loss: 2.2770\n",
            "Epoch 7/20\n",
            "\u001b[1m13/13\u001b[0m \u001b[32m━━━━━━━━━━━━━━━━━━━━\u001b[0m\u001b[37m\u001b[0m \u001b[1m0s\u001b[0m 5ms/step - accuracy: 0.1355 - loss: 2.2554\n",
            "Epoch 8/20\n",
            "\u001b[1m13/13\u001b[0m \u001b[32m━━━━━━━━━━━━━━━━━━━━\u001b[0m\u001b[37m\u001b[0m \u001b[1m0s\u001b[0m 6ms/step - accuracy: 0.1315 - loss: 2.2255\n",
            "Epoch 9/20\n",
            "\u001b[1m13/13\u001b[0m \u001b[32m━━━━━━━━━━━━━━━━━━━━\u001b[0m\u001b[37m\u001b[0m \u001b[1m0s\u001b[0m 7ms/step - accuracy: 0.1425 - loss: 2.1710\n",
            "Epoch 10/20\n",
            "\u001b[1m13/13\u001b[0m \u001b[32m━━━━━━━━━━━━━━━━━━━━\u001b[0m\u001b[37m\u001b[0m \u001b[1m0s\u001b[0m 6ms/step - accuracy: 0.1312 - loss: 2.1873\n",
            "Epoch 11/20\n",
            "\u001b[1m13/13\u001b[0m \u001b[32m━━━━━━━━━━━━━━━━━━━━\u001b[0m\u001b[37m\u001b[0m \u001b[1m0s\u001b[0m 6ms/step - accuracy: 0.2085 - loss: 2.1397\n",
            "Epoch 12/20\n",
            "\u001b[1m13/13\u001b[0m \u001b[32m━━━━━━━━━━━━━━━━━━━━\u001b[0m\u001b[37m\u001b[0m \u001b[1m0s\u001b[0m 7ms/step - accuracy: 0.2036 - loss: 2.1209\n",
            "Epoch 13/20\n",
            "\u001b[1m13/13\u001b[0m \u001b[32m━━━━━━━━━━━━━━━━━━━━\u001b[0m\u001b[37m\u001b[0m \u001b[1m0s\u001b[0m 6ms/step - accuracy: 0.1666 - loss: 2.1387\n",
            "Epoch 14/20\n",
            "\u001b[1m13/13\u001b[0m \u001b[32m━━━━━━━━━━━━━━━━━━━━\u001b[0m\u001b[37m\u001b[0m \u001b[1m0s\u001b[0m 7ms/step - accuracy: 0.1797 - loss: 2.1241\n",
            "Epoch 15/20\n",
            "\u001b[1m13/13\u001b[0m \u001b[32m━━━━━━━━━━━━━━━━━━━━\u001b[0m\u001b[37m\u001b[0m \u001b[1m0s\u001b[0m 6ms/step - accuracy: 0.2099 - loss: 2.0802\n",
            "Epoch 16/20\n",
            "\u001b[1m13/13\u001b[0m \u001b[32m━━━━━━━━━━━━━━━━━━━━\u001b[0m\u001b[37m\u001b[0m \u001b[1m0s\u001b[0m 6ms/step - accuracy: 0.1839 - loss: 2.0993\n",
            "Epoch 17/20\n",
            "\u001b[1m13/13\u001b[0m \u001b[32m━━━━━━━━━━━━━━━━━━━━\u001b[0m\u001b[37m\u001b[0m \u001b[1m0s\u001b[0m 7ms/step - accuracy: 0.1880 - loss: 2.0408\n",
            "Epoch 18/20\n",
            "\u001b[1m13/13\u001b[0m \u001b[32m━━━━━━━━━━━━━━━━━━━━\u001b[0m\u001b[37m\u001b[0m \u001b[1m0s\u001b[0m 6ms/step - accuracy: 0.1662 - loss: 2.0565\n",
            "Epoch 19/20\n",
            "\u001b[1m13/13\u001b[0m \u001b[32m━━━━━━━━━━━━━━━━━━━━\u001b[0m\u001b[37m\u001b[0m \u001b[1m0s\u001b[0m 7ms/step - accuracy: 0.1938 - loss: 2.1184\n",
            "Epoch 20/20\n",
            "\u001b[1m13/13\u001b[0m \u001b[32m━━━━━━━━━━━━━━━━━━━━\u001b[0m\u001b[37m\u001b[0m \u001b[1m0s\u001b[0m 7ms/step - accuracy: 0.2046 - loss: 2.0447\n"
          ]
        }
      ]
    },
    {
      "cell_type": "code",
      "source": [
        "plt.title(\"Mudeli 2 loss\")\n",
        "plt.plot(range(1, 21), hist.history[\"loss\"], \"r\")\n",
        "plt.show()"
      ],
      "metadata": {
        "colab": {
          "base_uri": "https://localhost:8080/",
          "height": 452
        },
        "id": "AhJNt7BSsm4D",
        "outputId": "4ddb37bd-9a08-4753-ffc9-25ccd9caa63d"
      },
      "execution_count": 45,
      "outputs": [
        {
          "output_type": "display_data",
          "data": {
            "text/plain": [
              "<Figure size 640x480 with 1 Axes>"
            ],
            "image/png": "[encoded data removed]"
          },
          "metadata": {}
        }
      ]
    },
    {
      "cell_type": "markdown",
      "source": [
        "#### Mudeli testimine"
      ],
      "metadata": {
        "id": "CS1GgnT5qUiD"
      }
    },
    {
      "cell_type": "code",
      "source": [
        "# Mudeli testimine testandmetel\n",
        "pred = model2.predict(X_test)\n",
        "correct = 0\n",
        "\n",
        "print(f\"Testandmeid on {len(X_test)}.\")\n",
        "# Vaadatakse palju testandmetest mudel õigesti ennustab\n",
        "for i in range(len(pred)):\n",
        "    predicted_label = np.argmax(pred[i])\n",
        "    actual_label = np.argmax(y_test[i])\n",
        "    print(f\"Ennustus: {predicted_label}\")\n",
        "    print(f\"Tegelik: {actual_label}\")\n",
        "    if predicted_label == actual_label:\n",
        "        correct += 1\n",
        "    print()\n",
        "\n",
        "accuracy = correct / len(pred)\n",
        "print(f\"Täpsus: {accuracy * 100:.2f}%\")"
      ],
      "metadata": {
        "colab": {
          "base_uri": "https://localhost:8080/"
        },
        "id": "zLzmLOwmuL79",
        "outputId": "ca560ab2-2184-46ce-8505-43d875dc3120"
      },
      "execution_count": 46,
      "outputs": [
        {
          "output_type": "stream",
          "name": "stdout",
          "text": [
            "\u001b[1m4/4\u001b[0m \u001b[32m━━━━━━━━━━━━━━━━━━━━\u001b[0m\u001b[37m\u001b[0m \u001b[1m0s\u001b[0m 72ms/step\n",
            "Testandmeid on 100.\n",
            "Ennustus: 1\n",
            "Tegelik: 3\n",
            "\n",
            "Ennustus: 3\n",
            "Tegelik: 8\n",
            "\n",
            "Ennustus: 5\n",
            "Tegelik: 4\n",
            "\n",
            "Ennustus: 1\n",
            "Tegelik: 6\n",
            "\n",
            "Ennustus: 0\n",
            "Tegelik: 9\n",
            "\n",
            "Ennustus: 9\n",
            "Tegelik: 6\n",
            "\n",
            "Ennustus: 0\n",
            "Tegelik: 4\n",
            "\n",
            "Ennustus: 3\n",
            "Tegelik: 2\n",
            "\n",
            "Ennustus: 3\n",
            "Tegelik: 3\n",
            "\n",
            "Ennustus: 5\n",
            "Tegelik: 7\n",
            "\n",
            "Ennustus: 9\n",
            "Tegelik: 0\n",
            "\n",
            "Ennustus: 0\n",
            "Tegelik: 0\n",
            "\n",
            "Ennustus: 1\n",
            "Tegelik: 0\n",
            "\n",
            "Ennustus: 1\n",
            "Tegelik: 1\n",
            "\n",
            "Ennustus: 2\n",
            "Tegelik: 6\n",
            "\n",
            "Ennustus: 5\n",
            "Tegelik: 1\n",
            "\n",
            "Ennustus: 1\n",
            "Tegelik: 6\n",
            "\n",
            "Ennustus: 1\n",
            "Tegelik: 3\n",
            "\n",
            "Ennustus: 1\n",
            "Tegelik: 9\n",
            "\n",
            "Ennustus: 5\n",
            "Tegelik: 2\n",
            "\n",
            "Ennustus: 5\n",
            "Tegelik: 5\n",
            "\n",
            "Ennustus: 1\n",
            "Tegelik: 7\n",
            "\n",
            "Ennustus: 0\n",
            "Tegelik: 1\n",
            "\n",
            "Ennustus: 1\n",
            "Tegelik: 8\n",
            "\n",
            "Ennustus: 0\n",
            "Tegelik: 2\n",
            "\n",
            "Ennustus: 2\n",
            "Tegelik: 2\n",
            "\n",
            "Ennustus: 1\n",
            "Tegelik: 5\n",
            "\n",
            "Ennustus: 3\n",
            "Tegelik: 3\n",
            "\n",
            "Ennustus: 2\n",
            "Tegelik: 7\n",
            "\n",
            "Ennustus: 5\n",
            "Tegelik: 5\n",
            "\n",
            "Ennustus: 2\n",
            "Tegelik: 2\n",
            "\n",
            "Ennustus: 1\n",
            "Tegelik: 5\n",
            "\n",
            "Ennustus: 2\n",
            "Tegelik: 5\n",
            "\n",
            "Ennustus: 1\n",
            "Tegelik: 2\n",
            "\n",
            "Ennustus: 0\n",
            "Tegelik: 9\n",
            "\n",
            "Ennustus: 0\n",
            "Tegelik: 4\n",
            "\n",
            "Ennustus: 2\n",
            "Tegelik: 1\n",
            "\n",
            "Ennustus: 3\n",
            "Tegelik: 8\n",
            "\n",
            "Ennustus: 0\n",
            "Tegelik: 7\n",
            "\n",
            "Ennustus: 2\n",
            "Tegelik: 7\n",
            "\n",
            "Ennustus: 2\n",
            "Tegelik: 6\n",
            "\n",
            "Ennustus: 8\n",
            "Tegelik: 1\n",
            "\n",
            "Ennustus: 8\n",
            "Tegelik: 8\n",
            "\n",
            "Ennustus: 0\n",
            "Tegelik: 7\n",
            "\n",
            "Ennustus: 1\n",
            "Tegelik: 2\n",
            "\n",
            "Ennustus: 9\n",
            "Tegelik: 2\n",
            "\n",
            "Ennustus: 5\n",
            "Tegelik: 4\n",
            "\n",
            "Ennustus: 5\n",
            "Tegelik: 9\n",
            "\n",
            "Ennustus: 1\n",
            "Tegelik: 3\n",
            "\n",
            "Ennustus: 9\n",
            "Tegelik: 0\n",
            "\n",
            "Ennustus: 1\n",
            "Tegelik: 1\n",
            "\n",
            "Ennustus: 1\n",
            "Tegelik: 5\n",
            "\n",
            "Ennustus: 3\n",
            "Tegelik: 7\n",
            "\n",
            "Ennustus: 1\n",
            "Tegelik: 2\n",
            "\n",
            "Ennustus: 8\n",
            "Tegelik: 2\n",
            "\n",
            "Ennustus: 1\n",
            "Tegelik: 0\n",
            "\n",
            "Ennustus: 1\n",
            "Tegelik: 6\n",
            "\n",
            "Ennustus: 2\n",
            "Tegelik: 1\n",
            "\n",
            "Ennustus: 2\n",
            "Tegelik: 9\n",
            "\n",
            "Ennustus: 0\n",
            "Tegelik: 7\n",
            "\n",
            "Ennustus: 1\n",
            "Tegelik: 1\n",
            "\n",
            "Ennustus: 1\n",
            "Tegelik: 4\n",
            "\n",
            "Ennustus: 0\n",
            "Tegelik: 7\n",
            "\n",
            "Ennustus: 3\n",
            "Tegelik: 4\n",
            "\n",
            "Ennustus: 1\n",
            "Tegelik: 2\n",
            "\n",
            "Ennustus: 2\n",
            "Tegelik: 8\n",
            "\n",
            "Ennustus: 1\n",
            "Tegelik: 1\n",
            "\n",
            "Ennustus: 2\n",
            "Tegelik: 9\n",
            "\n",
            "Ennustus: 0\n",
            "Tegelik: 9\n",
            "\n",
            "Ennustus: 1\n",
            "Tegelik: 0\n",
            "\n",
            "Ennustus: 0\n",
            "Tegelik: 7\n",
            "\n",
            "Ennustus: 0\n",
            "Tegelik: 6\n",
            "\n",
            "Ennustus: 8\n",
            "Tegelik: 8\n",
            "\n",
            "Ennustus: 8\n",
            "Tegelik: 3\n",
            "\n",
            "Ennustus: 2\n",
            "Tegelik: 3\n",
            "\n",
            "Ennustus: 3\n",
            "Tegelik: 3\n",
            "\n",
            "Ennustus: 3\n",
            "Tegelik: 3\n",
            "\n",
            "Ennustus: 1\n",
            "Tegelik: 5\n",
            "\n",
            "Ennustus: 2\n",
            "Tegelik: 7\n",
            "\n",
            "Ennustus: 2\n",
            "Tegelik: 6\n",
            "\n",
            "Ennustus: 5\n",
            "Tegelik: 4\n",
            "\n",
            "Ennustus: 5\n",
            "Tegelik: 5\n",
            "\n",
            "Ennustus: 1\n",
            "Tegelik: 9\n",
            "\n",
            "Ennustus: 1\n",
            "Tegelik: 2\n",
            "\n",
            "Ennustus: 2\n",
            "Tegelik: 5\n",
            "\n",
            "Ennustus: 3\n",
            "Tegelik: 7\n",
            "\n",
            "Ennustus: 1\n",
            "Tegelik: 6\n",
            "\n",
            "Ennustus: 0\n",
            "Tegelik: 9\n",
            "\n",
            "Ennustus: 8\n",
            "Tegelik: 4\n",
            "\n",
            "Ennustus: 0\n",
            "Tegelik: 6\n",
            "\n",
            "Ennustus: 0\n",
            "Tegelik: 8\n",
            "\n",
            "Ennustus: 8\n",
            "Tegelik: 4\n",
            "\n",
            "Ennustus: 8\n",
            "Tegelik: 4\n",
            "\n",
            "Ennustus: 3\n",
            "Tegelik: 4\n",
            "\n",
            "Ennustus: 0\n",
            "Tegelik: 6\n",
            "\n",
            "Ennustus: 1\n",
            "Tegelik: 8\n",
            "\n",
            "Ennustus: 5\n",
            "Tegelik: 4\n",
            "\n",
            "Ennustus: 3\n",
            "Tegelik: 2\n",
            "\n",
            "Ennustus: 9\n",
            "Tegelik: 3\n",
            "\n",
            "Ennustus: 1\n",
            "Tegelik: 6\n",
            "\n",
            "Täpsus: 16.00%\n"
          ]
        }
      ]
    },
    {
      "cell_type": "markdown",
      "source": [
        "#### Mudeli testimine väiksematel andmetele\n",
        "Siin saab teist mudelit katsetada väiksematel andmemahtudel ehk ennustatakse ainult kolme linnuliiki."
      ],
      "metadata": {
        "id": "1cMt3IwjqYU7"
      }
    },
    {
      "cell_type": "code",
      "source": [
        "# Väiksemaks testimiseks võetakse 3 liiki\n",
        "liigid = [\"asbflytest\", \"blakit1test\", \"categrtest\"]"
      ],
      "metadata": {
        "id": "_nwzcC7dkFz0"
      },
      "execution_count": 47,
      "outputs": []
    },
    {
      "cell_type": "code",
      "source": [
        "# Kõigi failide sisse lugemine ja labeli numbri lisamine\n",
        "files = []\n",
        "for i in range(len(liigid)):\n",
        "  liik = liigid[i]\n",
        "  liigi_failid = glob.glob(liik+\"/*.ogg\")\n",
        "  for f in liigi_failid:\n",
        "    files.append((f, i))\n",
        "# Ajan järjendis heliklipid segamine, et edaspidi oleks lihtsam treening ja testandmeteks jagada\n",
        "np.random.shuffle(files)"
      ],
      "metadata": {
        "id": "7oiFu6UZrDdu"
      },
      "execution_count": 48,
      "outputs": []
    },
    {
      "cell_type": "code",
      "source": [
        "# Andmete eeltöötlus\n",
        "X, y = process_files(files)\n",
        "#Klasside numbrid dünaamiliselt ja traintest suuruse määramine\n",
        "num_of_classes = len(np.unique(y)) + 1\n",
        "traintest_size = 0.2\n",
        "\n",
        "# Ennustava atribuudi one-hot encodimine, et seda anda mudelile ette\n",
        "y = to_categorical(y, num_classes=num_of_classes)\n",
        "\n",
        "# Probleem: andmed on arrayde arrayd, flattenib iga array X-is, et sobiks standarscalerile\n",
        "# Teeb listi 2D arrayks\n",
        "X_flattened = np.array([item.flatten() for item in X])\n",
        "\n",
        "# StandardScaleme\n",
        "scaler = StandardScaler()\n",
        "X_scaled = scaler.fit_transform(X_flattened)\n",
        "\n",
        "# Rehsape tagasi\n",
        "feature_count = X[0].shape[0]\n",
        "time_steps = X[0].shape[1]\n",
        "X_scaled = X_scaled.reshape(len(X_scaled), feature_count, time_steps, 1)\n",
        "\n",
        "# Train test split\n",
        "test_len = int(len(X_scaled) * traintest_size)\n",
        "X_train = X_scaled[test_len:]\n",
        "y_train = y[test_len:]\n",
        "X_test = X_scaled[:test_len]\n",
        "y_test = y[:test_len]"
      ],
      "metadata": {
        "id": "N-Q73tnOrHM2"
      },
      "execution_count": 49,
      "outputs": []
    },
    {
      "cell_type": "code",
      "source": [
        "# Mudeli loomine\n",
        "model2 = Sequential([\n",
        "    Input(shape=(feature_count, time_steps, 1)),\n",
        "    Conv2D(16, (3, 3), activation=\"relu\", padding=\"same\"),\n",
        "    Dropout(0.25),\n",
        "    Conv2D(16, (3, 3), activation=\"relu\", padding=\"same\"),\n",
        "    Flatten(),\n",
        "    Dense(24, activation=\"relu\"),\n",
        "    Dropout(0.5),\n",
        "    Dense(num_of_classes, activation=\"softmax\")\n",
        "])\n",
        "\n",
        "# Compile ja fit\n",
        "model2.compile(optimizer=\"adam\", loss=\"categorical_crossentropy\", metrics=[\"accuracy\"])\n",
        "model2.summary()\n",
        "model2.fit(X_train, y_train, epochs=5, batch_size=32)"
      ],
      "metadata": {
        "colab": {
          "base_uri": "https://localhost:8080/",
          "height": 544
        },
        "id": "aEtlGrc4rNsO",
        "outputId": "d9808891-d226-4f0a-d03d-f2fa4aa8634a"
      },
      "execution_count": 50,
      "outputs": [
        {
          "output_type": "display_data",
          "data": {
            "text/plain": [
              "\u001b[1mModel: \"sequential_10\"\u001b[0m\n"
            ],
            "text/html": [
              "<pre style=\"white-space:pre;overflow-x:auto;line-height:normal;font-family:Menlo,'DejaVu Sans Mono',consolas,'Courier New',monospace\"><span style=\"font-weight: bold\">Model: \"sequential_10\"</span>\n",
              "</pre>\n"
            ]
          },
          "metadata": {}
        },
        {
          "output_type": "display_data",
          "data": {
            "text/plain": [
              "┏━━━━━━━━━━━━━━━━━━━━━━━━━━━━━━━━━━━━━━┳━━━━━━━━━━━━━━━━━━━━━━━━━━━━━┳━━━━━━━━━━━━━━━━━┓\n",
              "┃\u001b[1m \u001b[0m\u001b[1mLayer (type)                        \u001b[0m\u001b[1m \u001b[0m┃\u001b[1m \u001b[0m\u001b[1mOutput Shape               \u001b[0m\u001b[1m \u001b[0m┃\u001b[1m \u001b[0m\u001b[1m        Param #\u001b[0m\u001b[1m \u001b[0m┃\n",
              "┡━━━━━━━━━━━━━━━━━━━━━━━━━━━━━━━━━━━━━━╇━━━━━━━━━━━━━━━━━━━━━━━━━━━━━╇━━━━━━━━━━━━━━━━━┩\n",
              "│ conv2d_20 (\u001b[38;5;33mConv2D\u001b[0m)                   │ (\u001b[38;5;45mNone\u001b[0m, \u001b[38;5;34m13\u001b[0m, \u001b[38;5;34m216\u001b[0m, \u001b[38;5;34m16\u001b[0m)         │             \u001b[38;5;34m160\u001b[0m │\n",
              "├──────────────────────────────────────┼─────────────────────────────┼─────────────────┤\n",
              "│ dropout_18 (\u001b[38;5;33mDropout\u001b[0m)                 │ (\u001b[38;5;45mNone\u001b[0m, \u001b[38;5;34m13\u001b[0m, \u001b[38;5;34m216\u001b[0m, \u001b[38;5;34m16\u001b[0m)         │               \u001b[38;5;34m0\u001b[0m │\n",
              "├──────────────────────────────────────┼─────────────────────────────┼─────────────────┤\n",
              "│ conv2d_21 (\u001b[38;5;33mConv2D\u001b[0m)                   │ (\u001b[38;5;45mNone\u001b[0m, \u001b[38;5;34m13\u001b[0m, \u001b[38;5;34m216\u001b[0m, \u001b[38;5;34m16\u001b[0m)         │           \u001b[38;5;34m2,320\u001b[0m │\n",
              "├──────────────────────────────────────┼─────────────────────────────┼─────────────────┤\n",
              "│ flatten_10 (\u001b[38;5;33mFlatten\u001b[0m)                 │ (\u001b[38;5;45mNone\u001b[0m, \u001b[38;5;34m44928\u001b[0m)               │               \u001b[38;5;34m0\u001b[0m │\n",
              "├──────────────────────────────────────┼─────────────────────────────┼─────────────────┤\n",
              "│ dense_20 (\u001b[38;5;33mDense\u001b[0m)                     │ (\u001b[38;5;45mNone\u001b[0m, \u001b[38;5;34m24\u001b[0m)                  │       \u001b[38;5;34m1,078,296\u001b[0m │\n",
              "├──────────────────────────────────────┼─────────────────────────────┼─────────────────┤\n",
              "│ dropout_19 (\u001b[38;5;33mDropout\u001b[0m)                 │ (\u001b[38;5;45mNone\u001b[0m, \u001b[38;5;34m24\u001b[0m)                  │               \u001b[38;5;34m0\u001b[0m │\n",
              "├──────────────────────────────────────┼─────────────────────────────┼─────────────────┤\n",
              "│ dense_21 (\u001b[38;5;33mDense\u001b[0m)                     │ (\u001b[38;5;45mNone\u001b[0m, \u001b[38;5;34m3\u001b[0m)                   │              \u001b[38;5;34m75\u001b[0m │\n",
              "└──────────────────────────────────────┴─────────────────────────────┴─────────────────┘\n"
            ],
            "text/html": [
              "<pre style=\"white-space:pre;overflow-x:auto;line-height:normal;font-family:Menlo,'DejaVu Sans Mono',consolas,'Courier New',monospace\">┏━━━━━━━━━━━━━━━━━━━━━━━━━━━━━━━━━━━━━━┳━━━━━━━━━━━━━━━━━━━━━━━━━━━━━┳━━━━━━━━━━━━━━━━━┓\n",
              "┃<span style=\"font-weight: bold\"> Layer (type)                         </span>┃<span style=\"font-weight: bold\"> Output Shape                </span>┃<span style=\"font-weight: bold\">         Param # </span>┃\n",
              "┡━━━━━━━━━━━━━━━━━━━━━━━━━━━━━━━━━━━━━━╇━━━━━━━━━━━━━━━━━━━━━━━━━━━━━╇━━━━━━━━━━━━━━━━━┩\n",
              "│ conv2d_20 (<span style=\"color: #0087ff; text-decoration-color: #0087ff\">Conv2D</span>)                   │ (<span style=\"color: #00d7ff; text-decoration-color: #00d7ff\">None</span>, <span style=\"color: #00af00; text-decoration-color: #00af00\">13</span>, <span style=\"color: #00af00; text-decoration-color: #00af00\">216</span>, <span style=\"color: #00af00; text-decoration-color: #00af00\">16</span>)         │             <span style=\"color: #00af00; text-decoration-color: #00af00\">160</span> │\n",
              "├──────────────────────────────────────┼─────────────────────────────┼─────────────────┤\n",
              "│ dropout_18 (<span style=\"color: #0087ff; text-decoration-color: #0087ff\">Dropout</span>)                 │ (<span style=\"color: #00d7ff; text-decoration-color: #00d7ff\">None</span>, <span style=\"color: #00af00; text-decoration-color: #00af00\">13</span>, <span style=\"color: #00af00; text-decoration-color: #00af00\">216</span>, <span style=\"color: #00af00; text-decoration-color: #00af00\">16</span>)         │               <span style=\"color: #00af00; text-decoration-color: #00af00\">0</span> │\n",
              "├──────────────────────────────────────┼─────────────────────────────┼─────────────────┤\n",
              "│ conv2d_21 (<span style=\"color: #0087ff; text-decoration-color: #0087ff\">Conv2D</span>)                   │ (<span style=\"color: #00d7ff; text-decoration-color: #00d7ff\">None</span>, <span style=\"color: #00af00; text-decoration-color: #00af00\">13</span>, <span style=\"color: #00af00; text-decoration-color: #00af00\">216</span>, <span style=\"color: #00af00; text-decoration-color: #00af00\">16</span>)         │           <span style=\"color: #00af00; text-decoration-color: #00af00\">2,320</span> │\n",
              "├──────────────────────────────────────┼─────────────────────────────┼─────────────────┤\n",
              "│ flatten_10 (<span style=\"color: #0087ff; text-decoration-color: #0087ff\">Flatten</span>)                 │ (<span style=\"color: #00d7ff; text-decoration-color: #00d7ff\">None</span>, <span style=\"color: #00af00; text-decoration-color: #00af00\">44928</span>)               │               <span style=\"color: #00af00; text-decoration-color: #00af00\">0</span> │\n",
              "├──────────────────────────────────────┼─────────────────────────────┼─────────────────┤\n",
              "│ dense_20 (<span style=\"color: #0087ff; text-decoration-color: #0087ff\">Dense</span>)                     │ (<span style=\"color: #00d7ff; text-decoration-color: #00d7ff\">None</span>, <span style=\"color: #00af00; text-decoration-color: #00af00\">24</span>)                  │       <span style=\"color: #00af00; text-decoration-color: #00af00\">1,078,296</span> │\n",
              "├──────────────────────────────────────┼─────────────────────────────┼─────────────────┤\n",
              "│ dropout_19 (<span style=\"color: #0087ff; text-decoration-color: #0087ff\">Dropout</span>)                 │ (<span style=\"color: #00d7ff; text-decoration-color: #00d7ff\">None</span>, <span style=\"color: #00af00; text-decoration-color: #00af00\">24</span>)                  │               <span style=\"color: #00af00; text-decoration-color: #00af00\">0</span> │\n",
              "├──────────────────────────────────────┼─────────────────────────────┼─────────────────┤\n",
              "│ dense_21 (<span style=\"color: #0087ff; text-decoration-color: #0087ff\">Dense</span>)                     │ (<span style=\"color: #00d7ff; text-decoration-color: #00d7ff\">None</span>, <span style=\"color: #00af00; text-decoration-color: #00af00\">3</span>)                   │              <span style=\"color: #00af00; text-decoration-color: #00af00\">75</span> │\n",
              "└──────────────────────────────────────┴─────────────────────────────┴─────────────────┘\n",
              "</pre>\n"
            ]
          },
          "metadata": {}
        },
        {
          "output_type": "display_data",
          "data": {
            "text/plain": [
              "\u001b[1m Total params: \u001b[0m\u001b[38;5;34m1,080,851\u001b[0m (4.12 MB)\n"
            ],
            "text/html": [
              "<pre style=\"white-space:pre;overflow-x:auto;line-height:normal;font-family:Menlo,'DejaVu Sans Mono',consolas,'Courier New',monospace\"><span style=\"font-weight: bold\"> Total params: </span><span style=\"color: #00af00; text-decoration-color: #00af00\">1,080,851</span> (4.12 MB)\n",
              "</pre>\n"
            ]
          },
          "metadata": {}
        },
        {
          "output_type": "display_data",
          "data": {
            "text/plain": [
              "\u001b[1m Trainable params: \u001b[0m\u001b[38;5;34m1,080,851\u001b[0m (4.12 MB)\n"
            ],
            "text/html": [
              "<pre style=\"white-space:pre;overflow-x:auto;line-height:normal;font-family:Menlo,'DejaVu Sans Mono',consolas,'Courier New',monospace\"><span style=\"font-weight: bold\"> Trainable params: </span><span style=\"color: #00af00; text-decoration-color: #00af00\">1,080,851</span> (4.12 MB)\n",
              "</pre>\n"
            ]
          },
          "metadata": {}
        },
        {
          "output_type": "display_data",
          "data": {
            "text/plain": [
              "\u001b[1m Non-trainable params: \u001b[0m\u001b[38;5;34m0\u001b[0m (0.00 B)\n"
            ],
            "text/html": [
              "<pre style=\"white-space:pre;overflow-x:auto;line-height:normal;font-family:Menlo,'DejaVu Sans Mono',consolas,'Courier New',monospace\"><span style=\"font-weight: bold\"> Non-trainable params: </span><span style=\"color: #00af00; text-decoration-color: #00af00\">0</span> (0.00 B)\n",
              "</pre>\n"
            ]
          },
          "metadata": {}
        },
        {
          "output_type": "stream",
          "name": "stdout",
          "text": [
            "Epoch 1/5\n",
            "\u001b[1m1/1\u001b[0m \u001b[32m━━━━━━━━━━━━━━━━━━━━\u001b[0m\u001b[37m\u001b[0m \u001b[1m6s\u001b[0m 6s/step - accuracy: 0.2308 - loss: 1.0415\n",
            "Epoch 2/5\n",
            "\u001b[1m1/1\u001b[0m \u001b[32m━━━━━━━━━━━━━━━━━━━━\u001b[0m\u001b[37m\u001b[0m \u001b[1m1s\u001b[0m 1s/step - accuracy: 0.5385 - loss: 4.8890\n",
            "Epoch 3/5\n",
            "\u001b[1m1/1\u001b[0m \u001b[32m━━━━━━━━━━━━━━━━━━━━\u001b[0m\u001b[37m\u001b[0m \u001b[1m0s\u001b[0m 57ms/step - accuracy: 0.5385 - loss: 1.1240\n",
            "Epoch 4/5\n",
            "\u001b[1m1/1\u001b[0m \u001b[32m━━━━━━━━━━━━━━━━━━━━\u001b[0m\u001b[37m\u001b[0m \u001b[1m0s\u001b[0m 28ms/step - accuracy: 0.6923 - loss: 0.8779\n",
            "Epoch 5/5\n",
            "\u001b[1m1/1\u001b[0m \u001b[32m━━━━━━━━━━━━━━━━━━━━\u001b[0m\u001b[37m\u001b[0m \u001b[1m0s\u001b[0m 29ms/step - accuracy: 0.6154 - loss: 0.5127\n"
          ]
        },
        {
          "output_type": "execute_result",
          "data": {
            "text/plain": [
              "<keras.src.callbacks.history.History at 0x7e8e13427730>"
            ]
          },
          "metadata": {},
          "execution_count": 50
        }
      ]
    },
    {
      "cell_type": "code",
      "source": [
        "# Mudeli testimine testandmetel\n",
        "pred = model2.predict(X_test)\n",
        "correct = 0\n",
        "\n",
        "print(f\"Testandmeid on {len(X_test)}.\")\n",
        "# Vaadatakse palju testandmetest mudel õigesti ennustab\n",
        "for i in range(len(pred)):\n",
        "    predicted_label = np.argmax(pred[i])\n",
        "    actual_label = np.argmax(y_test[i])\n",
        "    print(f\"Ennustus: {predicted_label}\")\n",
        "    print(f\"Tegelik: {actual_label}\")\n",
        "    if predicted_label == actual_label:\n",
        "        correct += 1\n",
        "    print()\n",
        "\n",
        "accuracy = correct / len(pred)\n",
        "print(f\"Täpsus: {accuracy * 100:.2f}%\")"
      ],
      "metadata": {
        "colab": {
          "base_uri": "https://localhost:8080/"
        },
        "outputId": "70baae5c-0d46-4a64-e165-5589a6732f9b",
        "id": "WSsTwOSHrT-N"
      },
      "execution_count": 51,
      "outputs": [
        {
          "output_type": "stream",
          "name": "stdout",
          "text": [
            "\u001b[1m1/1\u001b[0m \u001b[32m━━━━━━━━━━━━━━━━━━━━\u001b[0m\u001b[37m\u001b[0m \u001b[1m1s\u001b[0m 590ms/step\n",
            "Testandmeid on 3.\n",
            "Ennustus: 2\n",
            "Tegelik: 2\n",
            "\n",
            "Ennustus: 2\n",
            "Tegelik: 2\n",
            "\n",
            "Ennustus: 2\n",
            "Tegelik: 0\n",
            "\n",
            "Täpsus: 66.67%\n"
          ]
        }
      ]
    },
    {
      "cell_type": "markdown",
      "source": [
        "### Tulemused\n",
        "\n",
        "Mudel 1 tegi etteantud heliklippidest spektogrammid ja ennustas nende alusel linnuliike. Treenimine toimus 20 epohhi vältel. Lossi diagrammil on näha, kuidas loss ilusti kahaneb ja jääb lõpuks 0.25-0.3 lähedale. Testandmetel saavutatakse täpsus 22%. Juhusliku valikuga oleks täpsus 10% ehk juhuslikust valikust on mudel 2 korda parem.\n",
        "\n",
        "Mudel 2 kasutas heliklippide MFCCs, et ennustada linnuliike. Treenimine toimus 20 epohhi vältel. Lossi diagrammil on näha, et kuigi loss väheneb, siis ei jõua see eriti madalale. Lõpuks jääb see 2.1 juurde, mis on võrreldes mudeliga 1 4 korda suurem. Testandmetel saavutatakse täpsus 16%. On märgata, et mudel on üpris ebastabiilne, sest erinevatel jooksutamistel suudab see vahel rohkem ennustada. Samas testides mudelit vähematel linnuliikidel suudab mudel kordades paremini ennustada.\n",
        "\n",
        "Mõlema mudeli puhul aitaks tulemust parandada andmete juurde lisamine ja epohhide arvu tõstmine. On näha, et 50 heliklipiga liigi kohta ei suudeta häid tulemusi saavutada. Samas nõuab rohkem andmeid rohkem mälu ja aega treenimisel. Kokkuvõtlikult töötavad mõlemad mudelid paremini kui juhuslik valik ning neil on edasist potentsiaali edasiarenduseks.\n",
        "\n"
      ],
      "metadata": {
        "id": "scRuOVnw51j8"
      }
    }
  ],
  "metadata": {
    "accelerator": "GPU",
    "colab": {
      "gpuType": "T4",
      "provenance": []
    },
    "kernelspec": {
      "display_name": "Python 3",
      "name": "python3"
    },
    "language_info": {
      "name": "python"
    }
  },
  "nbformat": 4,
  "nbformat_minor": 0
}